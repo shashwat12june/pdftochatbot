{
 "cells": [
  {
   "cell_type": "code",
   "execution_count": 2,
   "metadata": {},
   "outputs": [
    {
     "name": "stdout",
     "output_type": "stream",
     "text": [
      "Defaulting to user installation because normal site-packages is not writeable\n",
      "Requirement already satisfied: numpy in /Users/apple/Library/Python/3.9/lib/python/site-packages (1.26.4)\n",
      "\u001b[33mWARNING: You are using pip version 21.2.4; however, version 24.1.1 is available.\n",
      "You should consider upgrading via the '/Library/Developer/CommandLineTools/usr/bin/python3 -m pip install --upgrade pip' command.\u001b[0m\n"
     ]
    }
   ],
   "source": [
    "!pip3 install numpy"
   ]
  },
  {
   "cell_type": "code",
   "execution_count": 1,
   "metadata": {},
   "outputs": [
    {
     "name": "stdout",
     "output_type": "stream",
     "text": [
      "Defaulting to user installation because normal site-packages is not writeable\n",
      "Requirement already satisfied: requests in /Users/apple/Library/Python/3.9/lib/python/site-packages (2.32.3)\n",
      "Requirement already satisfied: urllib3<3,>=1.21.1 in /Users/apple/Library/Python/3.9/lib/python/site-packages (from requests) (2.2.1)\n",
      "Requirement already satisfied: idna<4,>=2.5 in /Users/apple/Library/Python/3.9/lib/python/site-packages (from requests) (3.7)\n",
      "Requirement already satisfied: charset-normalizer<4,>=2 in /Users/apple/Library/Python/3.9/lib/python/site-packages (from requests) (3.3.2)\n",
      "Requirement already satisfied: certifi>=2017.4.17 in /Users/apple/Library/Python/3.9/lib/python/site-packages (from requests) (2024.6.2)\n",
      "\u001b[33mWARNING: You are using pip version 21.2.4; however, version 24.1.1 is available.\n",
      "You should consider upgrading via the '/Library/Developer/CommandLineTools/usr/bin/python3 -m pip install --upgrade pip' command.\u001b[0m\n"
     ]
    }
   ],
   "source": [
    "!pip3 install requests"
   ]
  },
  {
   "cell_type": "code",
   "execution_count": 3,
   "metadata": {},
   "outputs": [
    {
     "name": "stdout",
     "output_type": "stream",
     "text": [
      "Defaulting to user installation because normal site-packages is not writeable\n",
      "Requirement already satisfied: chromadb in /Users/apple/Library/Python/3.9/lib/python/site-packages (0.5.0)\n",
      "Requirement already satisfied: overrides>=7.3.1 in /Users/apple/Library/Python/3.9/lib/python/site-packages (from chromadb) (7.7.0)\n",
      "Requirement already satisfied: chroma-hnswlib==0.7.3 in /Users/apple/Library/Python/3.9/lib/python/site-packages (from chromadb) (0.7.3)\n",
      "Requirement already satisfied: orjson>=3.9.12 in /Users/apple/Library/Python/3.9/lib/python/site-packages (from chromadb) (3.10.3)\n",
      "Requirement already satisfied: numpy>=1.22.5 in /Users/apple/Library/Python/3.9/lib/python/site-packages (from chromadb) (1.26.4)\n",
      "Requirement already satisfied: fastapi>=0.95.2 in /Users/apple/Library/Python/3.9/lib/python/site-packages (from chromadb) (0.111.0)\n",
      "Requirement already satisfied: tokenizers>=0.13.2 in /Users/apple/Library/Python/3.9/lib/python/site-packages (from chromadb) (0.19.1)\n",
      "Requirement already satisfied: opentelemetry-sdk>=1.2.0 in /Users/apple/Library/Python/3.9/lib/python/site-packages (from chromadb) (1.25.0)\n",
      "Requirement already satisfied: requests>=2.28 in /Users/apple/Library/Python/3.9/lib/python/site-packages (from chromadb) (2.32.3)\n",
      "Requirement already satisfied: PyYAML>=6.0.0 in /Users/apple/Library/Python/3.9/lib/python/site-packages (from chromadb) (6.0.1)\n",
      "Requirement already satisfied: build>=1.0.3 in /Users/apple/Library/Python/3.9/lib/python/site-packages (from chromadb) (1.2.1)\n",
      "Requirement already satisfied: typer>=0.9.0 in /Users/apple/Library/Python/3.9/lib/python/site-packages (from chromadb) (0.12.3)\n",
      "Requirement already satisfied: opentelemetry-instrumentation-fastapi>=0.41b0 in /Users/apple/Library/Python/3.9/lib/python/site-packages (from chromadb) (0.46b0)\n",
      "Requirement already satisfied: bcrypt>=4.0.1 in /Users/apple/Library/Python/3.9/lib/python/site-packages (from chromadb) (4.1.3)\n",
      "Requirement already satisfied: onnxruntime>=1.14.1 in /Users/apple/Library/Python/3.9/lib/python/site-packages (from chromadb) (1.18.0)\n",
      "Requirement already satisfied: uvicorn[standard]>=0.18.3 in /Users/apple/Library/Python/3.9/lib/python/site-packages (from chromadb) (0.30.1)\n",
      "Requirement already satisfied: kubernetes>=28.1.0 in /Users/apple/Library/Python/3.9/lib/python/site-packages (from chromadb) (30.1.0)\n",
      "Requirement already satisfied: tqdm>=4.65.0 in /Users/apple/Library/Python/3.9/lib/python/site-packages (from chromadb) (4.66.4)\n",
      "Requirement already satisfied: pypika>=0.48.9 in /Users/apple/Library/Python/3.9/lib/python/site-packages (from chromadb) (0.48.9)\n",
      "Requirement already satisfied: opentelemetry-api>=1.2.0 in /Users/apple/Library/Python/3.9/lib/python/site-packages (from chromadb) (1.25.0)\n",
      "Requirement already satisfied: typing-extensions>=4.5.0 in /Users/apple/Library/Python/3.9/lib/python/site-packages (from chromadb) (4.12.2)\n",
      "Requirement already satisfied: opentelemetry-exporter-otlp-proto-grpc>=1.2.0 in /Users/apple/Library/Python/3.9/lib/python/site-packages (from chromadb) (1.25.0)\n",
      "Requirement already satisfied: tenacity>=8.2.3 in /Users/apple/Library/Python/3.9/lib/python/site-packages (from chromadb) (8.3.0)\n",
      "Requirement already satisfied: importlib-resources in /Users/apple/Library/Python/3.9/lib/python/site-packages (from chromadb) (6.4.0)\n",
      "Requirement already satisfied: grpcio>=1.58.0 in /Users/apple/Library/Python/3.9/lib/python/site-packages (from chromadb) (1.64.1)\n",
      "Requirement already satisfied: posthog>=2.4.0 in /Users/apple/Library/Python/3.9/lib/python/site-packages (from chromadb) (3.5.0)\n",
      "Requirement already satisfied: pydantic>=1.9 in /Users/apple/Library/Python/3.9/lib/python/site-packages (from chromadb) (2.7.3)\n",
      "Requirement already satisfied: mmh3>=4.0.1 in /Users/apple/Library/Python/3.9/lib/python/site-packages (from chromadb) (4.1.0)\n",
      "Requirement already satisfied: packaging>=19.1 in /Users/apple/Library/Python/3.9/lib/python/site-packages (from build>=1.0.3->chromadb) (23.2)\n",
      "Requirement already satisfied: tomli>=1.1.0 in /Users/apple/Library/Python/3.9/lib/python/site-packages (from build>=1.0.3->chromadb) (2.0.1)\n",
      "Requirement already satisfied: importlib-metadata>=4.6 in /Users/apple/Library/Python/3.9/lib/python/site-packages (from build>=1.0.3->chromadb) (7.1.0)\n",
      "Requirement already satisfied: pyproject_hooks in /Users/apple/Library/Python/3.9/lib/python/site-packages (from build>=1.0.3->chromadb) (1.1.0)\n",
      "Requirement already satisfied: fastapi-cli>=0.0.2 in /Users/apple/Library/Python/3.9/lib/python/site-packages (from fastapi>=0.95.2->chromadb) (0.0.4)\n",
      "Requirement already satisfied: httpx>=0.23.0 in /Users/apple/Library/Python/3.9/lib/python/site-packages (from fastapi>=0.95.2->chromadb) (0.27.0)\n",
      "Requirement already satisfied: starlette<0.38.0,>=0.37.2 in /Users/apple/Library/Python/3.9/lib/python/site-packages (from fastapi>=0.95.2->chromadb) (0.37.2)\n",
      "Requirement already satisfied: python-multipart>=0.0.7 in /Users/apple/Library/Python/3.9/lib/python/site-packages (from fastapi>=0.95.2->chromadb) (0.0.9)\n",
      "Requirement already satisfied: jinja2>=2.11.2 in /Users/apple/Library/Python/3.9/lib/python/site-packages (from fastapi>=0.95.2->chromadb) (3.1.4)\n",
      "Requirement already satisfied: ujson!=4.0.2,!=4.1.0,!=4.2.0,!=4.3.0,!=5.0.0,!=5.1.0,>=4.0.1 in /Users/apple/Library/Python/3.9/lib/python/site-packages (from fastapi>=0.95.2->chromadb) (5.10.0)\n",
      "Requirement already satisfied: email_validator>=2.0.0 in /Users/apple/Library/Python/3.9/lib/python/site-packages (from fastapi>=0.95.2->chromadb) (2.1.1)\n",
      "Requirement already satisfied: idna>=2.0.0 in /Users/apple/Library/Python/3.9/lib/python/site-packages (from email_validator>=2.0.0->fastapi>=0.95.2->chromadb) (3.7)\n",
      "Requirement already satisfied: dnspython>=2.0.0 in /Users/apple/Library/Python/3.9/lib/python/site-packages (from email_validator>=2.0.0->fastapi>=0.95.2->chromadb) (2.6.1)\n",
      "Requirement already satisfied: httpcore==1.* in /Users/apple/Library/Python/3.9/lib/python/site-packages (from httpx>=0.23.0->fastapi>=0.95.2->chromadb) (1.0.5)\n",
      "Requirement already satisfied: anyio in /Users/apple/Library/Python/3.9/lib/python/site-packages (from httpx>=0.23.0->fastapi>=0.95.2->chromadb) (4.4.0)\n",
      "Requirement already satisfied: sniffio in /Users/apple/Library/Python/3.9/lib/python/site-packages (from httpx>=0.23.0->fastapi>=0.95.2->chromadb) (1.3.1)\n",
      "Requirement already satisfied: certifi in /Users/apple/Library/Python/3.9/lib/python/site-packages (from httpx>=0.23.0->fastapi>=0.95.2->chromadb) (2024.6.2)\n",
      "Requirement already satisfied: h11<0.15,>=0.13 in /Users/apple/Library/Python/3.9/lib/python/site-packages (from httpcore==1.*->httpx>=0.23.0->fastapi>=0.95.2->chromadb) (0.14.0)\n",
      "Requirement already satisfied: zipp>=0.5 in /Users/apple/Library/Python/3.9/lib/python/site-packages (from importlib-metadata>=4.6->build>=1.0.3->chromadb) (3.19.2)\n",
      "Requirement already satisfied: MarkupSafe>=2.0 in /Users/apple/Library/Python/3.9/lib/python/site-packages (from jinja2>=2.11.2->fastapi>=0.95.2->chromadb) (2.1.5)\n",
      "Requirement already satisfied: google-auth>=1.0.1 in /Users/apple/Library/Python/3.9/lib/python/site-packages (from kubernetes>=28.1.0->chromadb) (2.30.0)\n",
      "Requirement already satisfied: requests-oauthlib in /Users/apple/Library/Python/3.9/lib/python/site-packages (from kubernetes>=28.1.0->chromadb) (2.0.0)\n",
      "Requirement already satisfied: oauthlib>=3.2.2 in /Users/apple/Library/Python/3.9/lib/python/site-packages (from kubernetes>=28.1.0->chromadb) (3.2.2)\n",
      "Requirement already satisfied: six>=1.9.0 in /Library/Developer/CommandLineTools/Library/Frameworks/Python3.framework/Versions/3.9/lib/python3.9/site-packages (from kubernetes>=28.1.0->chromadb) (1.15.0)\n",
      "Requirement already satisfied: urllib3>=1.24.2 in /Users/apple/Library/Python/3.9/lib/python/site-packages (from kubernetes>=28.1.0->chromadb) (2.2.1)\n",
      "Requirement already satisfied: python-dateutil>=2.5.3 in /Users/apple/Library/Python/3.9/lib/python/site-packages (from kubernetes>=28.1.0->chromadb) (2.9.0.post0)\n",
      "Requirement already satisfied: websocket-client!=0.40.0,!=0.41.*,!=0.42.*,>=0.32.0 in /Users/apple/Library/Python/3.9/lib/python/site-packages (from kubernetes>=28.1.0->chromadb) (1.8.0)\n",
      "Requirement already satisfied: cachetools<6.0,>=2.0.0 in /Users/apple/Library/Python/3.9/lib/python/site-packages (from google-auth>=1.0.1->kubernetes>=28.1.0->chromadb) (5.3.3)\n",
      "Requirement already satisfied: rsa<5,>=3.1.4 in /Users/apple/Library/Python/3.9/lib/python/site-packages (from google-auth>=1.0.1->kubernetes>=28.1.0->chromadb) (4.9)\n",
      "Requirement already satisfied: pyasn1-modules>=0.2.1 in /Users/apple/Library/Python/3.9/lib/python/site-packages (from google-auth>=1.0.1->kubernetes>=28.1.0->chromadb) (0.4.0)\n",
      "Requirement already satisfied: coloredlogs in /Users/apple/Library/Python/3.9/lib/python/site-packages (from onnxruntime>=1.14.1->chromadb) (15.0.1)\n",
      "Requirement already satisfied: protobuf in /Users/apple/Library/Python/3.9/lib/python/site-packages (from onnxruntime>=1.14.1->chromadb) (4.25.3)\n",
      "Requirement already satisfied: flatbuffers in /Users/apple/Library/Python/3.9/lib/python/site-packages (from onnxruntime>=1.14.1->chromadb) (24.3.25)\n",
      "Requirement already satisfied: sympy in /Users/apple/Library/Python/3.9/lib/python/site-packages (from onnxruntime>=1.14.1->chromadb) (1.12.1)\n",
      "Requirement already satisfied: deprecated>=1.2.6 in /Users/apple/Library/Python/3.9/lib/python/site-packages (from opentelemetry-api>=1.2.0->chromadb) (1.2.14)\n",
      "Requirement already satisfied: wrapt<2,>=1.10 in /Users/apple/Library/Python/3.9/lib/python/site-packages (from deprecated>=1.2.6->opentelemetry-api>=1.2.0->chromadb) (1.16.0)\n",
      "Requirement already satisfied: opentelemetry-proto==1.25.0 in /Users/apple/Library/Python/3.9/lib/python/site-packages (from opentelemetry-exporter-otlp-proto-grpc>=1.2.0->chromadb) (1.25.0)\n",
      "Requirement already satisfied: googleapis-common-protos~=1.52 in /Users/apple/Library/Python/3.9/lib/python/site-packages (from opentelemetry-exporter-otlp-proto-grpc>=1.2.0->chromadb) (1.63.1)\n",
      "Requirement already satisfied: opentelemetry-exporter-otlp-proto-common==1.25.0 in /Users/apple/Library/Python/3.9/lib/python/site-packages (from opentelemetry-exporter-otlp-proto-grpc>=1.2.0->chromadb) (1.25.0)\n",
      "Requirement already satisfied: opentelemetry-util-http==0.46b0 in /Users/apple/Library/Python/3.9/lib/python/site-packages (from opentelemetry-instrumentation-fastapi>=0.41b0->chromadb) (0.46b0)\n",
      "Requirement already satisfied: opentelemetry-instrumentation-asgi==0.46b0 in /Users/apple/Library/Python/3.9/lib/python/site-packages (from opentelemetry-instrumentation-fastapi>=0.41b0->chromadb) (0.46b0)\n",
      "Requirement already satisfied: opentelemetry-instrumentation==0.46b0 in /Users/apple/Library/Python/3.9/lib/python/site-packages (from opentelemetry-instrumentation-fastapi>=0.41b0->chromadb) (0.46b0)\n",
      "Requirement already satisfied: opentelemetry-semantic-conventions==0.46b0 in /Users/apple/Library/Python/3.9/lib/python/site-packages (from opentelemetry-instrumentation-fastapi>=0.41b0->chromadb) (0.46b0)\n",
      "Requirement already satisfied: setuptools>=16.0 in /Library/Developer/CommandLineTools/Library/Frameworks/Python3.framework/Versions/3.9/lib/python3.9/site-packages (from opentelemetry-instrumentation==0.46b0->opentelemetry-instrumentation-fastapi>=0.41b0->chromadb) (58.0.4)\n",
      "Requirement already satisfied: asgiref~=3.0 in /Users/apple/Library/Python/3.9/lib/python/site-packages (from opentelemetry-instrumentation-asgi==0.46b0->opentelemetry-instrumentation-fastapi>=0.41b0->chromadb) (3.8.1)\n",
      "Requirement already satisfied: monotonic>=1.5 in /Users/apple/Library/Python/3.9/lib/python/site-packages (from posthog>=2.4.0->chromadb) (1.6)\n",
      "Requirement already satisfied: backoff>=1.10.0 in /Users/apple/Library/Python/3.9/lib/python/site-packages (from posthog>=2.4.0->chromadb) (2.2.1)\n",
      "Requirement already satisfied: pyasn1<0.7.0,>=0.4.6 in /Users/apple/Library/Python/3.9/lib/python/site-packages (from pyasn1-modules>=0.2.1->google-auth>=1.0.1->kubernetes>=28.1.0->chromadb) (0.6.0)\n",
      "Requirement already satisfied: annotated-types>=0.4.0 in /Users/apple/Library/Python/3.9/lib/python/site-packages (from pydantic>=1.9->chromadb) (0.7.0)\n",
      "Requirement already satisfied: pydantic-core==2.18.4 in /Users/apple/Library/Python/3.9/lib/python/site-packages (from pydantic>=1.9->chromadb) (2.18.4)\n",
      "Requirement already satisfied: charset-normalizer<4,>=2 in /Users/apple/Library/Python/3.9/lib/python/site-packages (from requests>=2.28->chromadb) (3.3.2)\n",
      "Requirement already satisfied: exceptiongroup>=1.0.2 in /Users/apple/Library/Python/3.9/lib/python/site-packages (from anyio->httpx>=0.23.0->fastapi>=0.95.2->chromadb) (1.2.1)\n",
      "Requirement already satisfied: huggingface-hub<1.0,>=0.16.4 in /Users/apple/Library/Python/3.9/lib/python/site-packages (from tokenizers>=0.13.2->chromadb) (0.23.3)\n",
      "Requirement already satisfied: filelock in /Users/apple/Library/Python/3.9/lib/python/site-packages (from huggingface-hub<1.0,>=0.16.4->tokenizers>=0.13.2->chromadb) (3.14.0)\n",
      "Requirement already satisfied: fsspec>=2023.5.0 in /Users/apple/Library/Python/3.9/lib/python/site-packages (from huggingface-hub<1.0,>=0.16.4->tokenizers>=0.13.2->chromadb) (2024.6.0)\n",
      "Requirement already satisfied: click>=8.0.0 in /Users/apple/Library/Python/3.9/lib/python/site-packages (from typer>=0.9.0->chromadb) (8.1.7)\n",
      "Requirement already satisfied: rich>=10.11.0 in /Users/apple/Library/Python/3.9/lib/python/site-packages (from typer>=0.9.0->chromadb) (13.7.1)\n",
      "Requirement already satisfied: shellingham>=1.3.0 in /Users/apple/Library/Python/3.9/lib/python/site-packages (from typer>=0.9.0->chromadb) (1.5.4)\n",
      "Requirement already satisfied: pygments<3.0.0,>=2.13.0 in /Users/apple/Library/Python/3.9/lib/python/site-packages (from rich>=10.11.0->typer>=0.9.0->chromadb) (2.18.0)\n",
      "Requirement already satisfied: markdown-it-py>=2.2.0 in /Users/apple/Library/Python/3.9/lib/python/site-packages (from rich>=10.11.0->typer>=0.9.0->chromadb) (3.0.0)\n",
      "Requirement already satisfied: mdurl~=0.1 in /Users/apple/Library/Python/3.9/lib/python/site-packages (from markdown-it-py>=2.2.0->rich>=10.11.0->typer>=0.9.0->chromadb) (0.1.2)\n",
      "Requirement already satisfied: python-dotenv>=0.13 in /Users/apple/Library/Python/3.9/lib/python/site-packages (from uvicorn[standard]>=0.18.3->chromadb) (1.0.1)\n",
      "Requirement already satisfied: watchfiles>=0.13 in /Users/apple/Library/Python/3.9/lib/python/site-packages (from uvicorn[standard]>=0.18.3->chromadb) (0.22.0)\n",
      "Requirement already satisfied: uvloop!=0.15.0,!=0.15.1,>=0.14.0 in /Users/apple/Library/Python/3.9/lib/python/site-packages (from uvicorn[standard]>=0.18.3->chromadb) (0.19.0)\n",
      "Requirement already satisfied: httptools>=0.5.0 in /Users/apple/Library/Python/3.9/lib/python/site-packages (from uvicorn[standard]>=0.18.3->chromadb) (0.6.1)\n",
      "Requirement already satisfied: websockets>=10.4 in /Users/apple/Library/Python/3.9/lib/python/site-packages (from uvicorn[standard]>=0.18.3->chromadb) (12.0)\n",
      "Requirement already satisfied: humanfriendly>=9.1 in /Users/apple/Library/Python/3.9/lib/python/site-packages (from coloredlogs->onnxruntime>=1.14.1->chromadb) (10.0)\n",
      "Requirement already satisfied: mpmath<1.4.0,>=1.1.0 in /Users/apple/Library/Python/3.9/lib/python/site-packages (from sympy->onnxruntime>=1.14.1->chromadb) (1.3.0)\n",
      "\u001b[33mWARNING: You are using pip version 21.2.4; however, version 24.1.1 is available.\n",
      "You should consider upgrading via the '/Library/Developer/CommandLineTools/usr/bin/python3 -m pip install --upgrade pip' command.\u001b[0m\n"
     ]
    }
   ],
   "source": [
    "!pip3 install chromadb \n"
   ]
  },
  {
   "cell_type": "code",
   "execution_count": 4,
   "metadata": {},
   "outputs": [
    {
     "name": "stdout",
     "output_type": "stream",
     "text": [
      "Defaulting to user installation because normal site-packages is not writeable\n",
      "Requirement already satisfied: jupyter in /Users/apple/Library/Python/3.9/lib/python/site-packages (1.0.0)\n",
      "Requirement already satisfied: qtconsole in /Users/apple/Library/Python/3.9/lib/python/site-packages (from jupyter) (5.5.2)\n",
      "Requirement already satisfied: jupyter-console in /Users/apple/Library/Python/3.9/lib/python/site-packages (from jupyter) (6.6.3)\n",
      "Requirement already satisfied: ipywidgets in /Users/apple/Library/Python/3.9/lib/python/site-packages (from jupyter) (8.1.3)\n",
      "Requirement already satisfied: notebook in /Users/apple/Library/Python/3.9/lib/python/site-packages (from jupyter) (7.2.1)\n",
      "Requirement already satisfied: nbconvert in /Users/apple/Library/Python/3.9/lib/python/site-packages (from jupyter) (7.16.4)\n",
      "Requirement already satisfied: ipykernel in /Users/apple/Library/Python/3.9/lib/python/site-packages (from jupyter) (6.29.4)\n",
      "Requirement already satisfied: traitlets>=5.4.0 in /Users/apple/Library/Python/3.9/lib/python/site-packages (from ipykernel->jupyter) (5.14.3)\n",
      "Requirement already satisfied: jupyter-client>=6.1.12 in /Users/apple/Library/Python/3.9/lib/python/site-packages (from ipykernel->jupyter) (8.6.2)\n",
      "Requirement already satisfied: comm>=0.1.1 in /Users/apple/Library/Python/3.9/lib/python/site-packages (from ipykernel->jupyter) (0.2.2)\n",
      "Requirement already satisfied: psutil in /Users/apple/Library/Python/3.9/lib/python/site-packages (from ipykernel->jupyter) (5.9.8)\n",
      "Requirement already satisfied: tornado>=6.1 in /Users/apple/Library/Python/3.9/lib/python/site-packages (from ipykernel->jupyter) (6.4.1)\n",
      "Requirement already satisfied: nest-asyncio in /Users/apple/Library/Python/3.9/lib/python/site-packages (from ipykernel->jupyter) (1.6.0)\n",
      "Requirement already satisfied: appnope in /Users/apple/Library/Python/3.9/lib/python/site-packages (from ipykernel->jupyter) (0.1.4)\n",
      "Requirement already satisfied: jupyter-core!=5.0.*,>=4.12 in /Users/apple/Library/Python/3.9/lib/python/site-packages (from ipykernel->jupyter) (5.7.2)\n",
      "Requirement already satisfied: pyzmq>=24 in /Users/apple/Library/Python/3.9/lib/python/site-packages (from ipykernel->jupyter) (26.0.3)\n",
      "Requirement already satisfied: ipython>=7.23.1 in /Users/apple/Library/Python/3.9/lib/python/site-packages (from ipykernel->jupyter) (8.18.1)\n",
      "Requirement already satisfied: debugpy>=1.6.5 in /Users/apple/Library/Python/3.9/lib/python/site-packages (from ipykernel->jupyter) (1.8.1)\n",
      "Requirement already satisfied: matplotlib-inline>=0.1 in /Users/apple/Library/Python/3.9/lib/python/site-packages (from ipykernel->jupyter) (0.1.7)\n",
      "Requirement already satisfied: packaging in /Users/apple/Library/Python/3.9/lib/python/site-packages (from ipykernel->jupyter) (23.2)\n",
      "Requirement already satisfied: stack-data in /Users/apple/Library/Python/3.9/lib/python/site-packages (from ipython>=7.23.1->ipykernel->jupyter) (0.6.3)\n",
      "Requirement already satisfied: typing-extensions in /Users/apple/Library/Python/3.9/lib/python/site-packages (from ipython>=7.23.1->ipykernel->jupyter) (4.12.2)\n",
      "Requirement already satisfied: jedi>=0.16 in /Users/apple/Library/Python/3.9/lib/python/site-packages (from ipython>=7.23.1->ipykernel->jupyter) (0.19.1)\n",
      "Requirement already satisfied: pygments>=2.4.0 in /Users/apple/Library/Python/3.9/lib/python/site-packages (from ipython>=7.23.1->ipykernel->jupyter) (2.18.0)\n",
      "Requirement already satisfied: exceptiongroup in /Users/apple/Library/Python/3.9/lib/python/site-packages (from ipython>=7.23.1->ipykernel->jupyter) (1.2.1)\n",
      "Requirement already satisfied: prompt-toolkit<3.1.0,>=3.0.41 in /Users/apple/Library/Python/3.9/lib/python/site-packages (from ipython>=7.23.1->ipykernel->jupyter) (3.0.47)\n",
      "Requirement already satisfied: pexpect>4.3 in /Users/apple/Library/Python/3.9/lib/python/site-packages (from ipython>=7.23.1->ipykernel->jupyter) (4.9.0)\n",
      "Requirement already satisfied: decorator in /Users/apple/Library/Python/3.9/lib/python/site-packages (from ipython>=7.23.1->ipykernel->jupyter) (5.1.1)\n",
      "Requirement already satisfied: parso<0.9.0,>=0.8.3 in /Users/apple/Library/Python/3.9/lib/python/site-packages (from jedi>=0.16->ipython>=7.23.1->ipykernel->jupyter) (0.8.4)\n",
      "Requirement already satisfied: python-dateutil>=2.8.2 in /Users/apple/Library/Python/3.9/lib/python/site-packages (from jupyter-client>=6.1.12->ipykernel->jupyter) (2.9.0.post0)\n",
      "Requirement already satisfied: importlib-metadata>=4.8.3 in /Users/apple/Library/Python/3.9/lib/python/site-packages (from jupyter-client>=6.1.12->ipykernel->jupyter) (7.1.0)\n",
      "Requirement already satisfied: zipp>=0.5 in /Users/apple/Library/Python/3.9/lib/python/site-packages (from importlib-metadata>=4.8.3->jupyter-client>=6.1.12->ipykernel->jupyter) (3.19.2)\n",
      "Requirement already satisfied: platformdirs>=2.5 in /Users/apple/Library/Python/3.9/lib/python/site-packages (from jupyter-core!=5.0.*,>=4.12->ipykernel->jupyter) (4.2.2)\n",
      "Requirement already satisfied: ptyprocess>=0.5 in /Users/apple/Library/Python/3.9/lib/python/site-packages (from pexpect>4.3->ipython>=7.23.1->ipykernel->jupyter) (0.7.0)\n",
      "Requirement already satisfied: wcwidth in /Users/apple/Library/Python/3.9/lib/python/site-packages (from prompt-toolkit<3.1.0,>=3.0.41->ipython>=7.23.1->ipykernel->jupyter) (0.2.13)\n",
      "Requirement already satisfied: six>=1.5 in /Library/Developer/CommandLineTools/Library/Frameworks/Python3.framework/Versions/3.9/lib/python3.9/site-packages (from python-dateutil>=2.8.2->jupyter-client>=6.1.12->ipykernel->jupyter) (1.15.0)\n",
      "Requirement already satisfied: widgetsnbextension~=4.0.11 in /Users/apple/Library/Python/3.9/lib/python/site-packages (from ipywidgets->jupyter) (4.0.11)\n",
      "Requirement already satisfied: jupyterlab-widgets~=3.0.11 in /Users/apple/Library/Python/3.9/lib/python/site-packages (from ipywidgets->jupyter) (3.0.11)\n",
      "Requirement already satisfied: nbformat>=5.7 in /Users/apple/Library/Python/3.9/lib/python/site-packages (from nbconvert->jupyter) (5.10.4)\n",
      "Requirement already satisfied: bleach!=5.0.0 in /Users/apple/Library/Python/3.9/lib/python/site-packages (from nbconvert->jupyter) (6.1.0)\n",
      "Requirement already satisfied: mistune<4,>=2.0.3 in /Users/apple/Library/Python/3.9/lib/python/site-packages (from nbconvert->jupyter) (3.0.2)\n",
      "Requirement already satisfied: markupsafe>=2.0 in /Users/apple/Library/Python/3.9/lib/python/site-packages (from nbconvert->jupyter) (2.1.5)\n",
      "Requirement already satisfied: beautifulsoup4 in /Users/apple/Library/Python/3.9/lib/python/site-packages (from nbconvert->jupyter) (4.12.3)\n",
      "Requirement already satisfied: pandocfilters>=1.4.1 in /Users/apple/Library/Python/3.9/lib/python/site-packages (from nbconvert->jupyter) (1.5.1)\n",
      "Requirement already satisfied: tinycss2 in /Users/apple/Library/Python/3.9/lib/python/site-packages (from nbconvert->jupyter) (1.3.0)\n",
      "Requirement already satisfied: nbclient>=0.5.0 in /Users/apple/Library/Python/3.9/lib/python/site-packages (from nbconvert->jupyter) (0.10.0)\n",
      "Requirement already satisfied: jupyterlab-pygments in /Users/apple/Library/Python/3.9/lib/python/site-packages (from nbconvert->jupyter) (0.3.0)\n",
      "Requirement already satisfied: jinja2>=3.0 in /Users/apple/Library/Python/3.9/lib/python/site-packages (from nbconvert->jupyter) (3.1.4)\n",
      "Requirement already satisfied: defusedxml in /Users/apple/Library/Python/3.9/lib/python/site-packages (from nbconvert->jupyter) (0.7.1)\n",
      "Requirement already satisfied: webencodings in /Users/apple/Library/Python/3.9/lib/python/site-packages (from bleach!=5.0.0->nbconvert->jupyter) (0.5.1)\n",
      "Requirement already satisfied: fastjsonschema>=2.15 in /Users/apple/Library/Python/3.9/lib/python/site-packages (from nbformat>=5.7->nbconvert->jupyter) (2.20.0)\n",
      "Requirement already satisfied: jsonschema>=2.6 in /Users/apple/Library/Python/3.9/lib/python/site-packages (from nbformat>=5.7->nbconvert->jupyter) (4.22.0)\n",
      "Requirement already satisfied: rpds-py>=0.7.1 in /Users/apple/Library/Python/3.9/lib/python/site-packages (from jsonschema>=2.6->nbformat>=5.7->nbconvert->jupyter) (0.18.1)\n",
      "Requirement already satisfied: jsonschema-specifications>=2023.03.6 in /Users/apple/Library/Python/3.9/lib/python/site-packages (from jsonschema>=2.6->nbformat>=5.7->nbconvert->jupyter) (2023.12.1)\n",
      "Requirement already satisfied: attrs>=22.2.0 in /Users/apple/Library/Python/3.9/lib/python/site-packages (from jsonschema>=2.6->nbformat>=5.7->nbconvert->jupyter) (23.2.0)\n",
      "Requirement already satisfied: referencing>=0.28.4 in /Users/apple/Library/Python/3.9/lib/python/site-packages (from jsonschema>=2.6->nbformat>=5.7->nbconvert->jupyter) (0.35.1)\n",
      "Requirement already satisfied: soupsieve>1.2 in /Users/apple/Library/Python/3.9/lib/python/site-packages (from beautifulsoup4->nbconvert->jupyter) (2.5)\n",
      "Requirement already satisfied: jupyter-server<3,>=2.4.0 in /Users/apple/Library/Python/3.9/lib/python/site-packages (from notebook->jupyter) (2.14.1)\n",
      "Requirement already satisfied: jupyterlab-server<3,>=2.27.1 in /Users/apple/Library/Python/3.9/lib/python/site-packages (from notebook->jupyter) (2.27.2)\n",
      "Requirement already satisfied: notebook-shim<0.3,>=0.2 in /Users/apple/Library/Python/3.9/lib/python/site-packages (from notebook->jupyter) (0.2.4)\n",
      "Requirement already satisfied: jupyterlab<4.3,>=4.2.0 in /Users/apple/Library/Python/3.9/lib/python/site-packages (from notebook->jupyter) (4.2.2)\n",
      "Requirement already satisfied: prometheus-client>=0.9 in /Users/apple/Library/Python/3.9/lib/python/site-packages (from jupyter-server<3,>=2.4.0->notebook->jupyter) (0.20.0)\n",
      "Requirement already satisfied: send2trash>=1.8.2 in /Users/apple/Library/Python/3.9/lib/python/site-packages (from jupyter-server<3,>=2.4.0->notebook->jupyter) (1.8.3)\n",
      "Requirement already satisfied: argon2-cffi>=21.1 in /Users/apple/Library/Python/3.9/lib/python/site-packages (from jupyter-server<3,>=2.4.0->notebook->jupyter) (23.1.0)\n",
      "Requirement already satisfied: overrides>=5.0 in /Users/apple/Library/Python/3.9/lib/python/site-packages (from jupyter-server<3,>=2.4.0->notebook->jupyter) (7.7.0)\n",
      "Requirement already satisfied: jupyter-server-terminals>=0.4.4 in /Users/apple/Library/Python/3.9/lib/python/site-packages (from jupyter-server<3,>=2.4.0->notebook->jupyter) (0.5.3)\n",
      "Requirement already satisfied: terminado>=0.8.3 in /Users/apple/Library/Python/3.9/lib/python/site-packages (from jupyter-server<3,>=2.4.0->notebook->jupyter) (0.18.1)\n",
      "Requirement already satisfied: jupyter-events>=0.9.0 in /Users/apple/Library/Python/3.9/lib/python/site-packages (from jupyter-server<3,>=2.4.0->notebook->jupyter) (0.10.0)\n",
      "Requirement already satisfied: websocket-client>=1.7 in /Users/apple/Library/Python/3.9/lib/python/site-packages (from jupyter-server<3,>=2.4.0->notebook->jupyter) (1.8.0)\n",
      "Requirement already satisfied: anyio>=3.1.0 in /Users/apple/Library/Python/3.9/lib/python/site-packages (from jupyter-server<3,>=2.4.0->notebook->jupyter) (4.4.0)\n",
      "Requirement already satisfied: sniffio>=1.1 in /Users/apple/Library/Python/3.9/lib/python/site-packages (from anyio>=3.1.0->jupyter-server<3,>=2.4.0->notebook->jupyter) (1.3.1)\n",
      "Requirement already satisfied: idna>=2.8 in /Users/apple/Library/Python/3.9/lib/python/site-packages (from anyio>=3.1.0->jupyter-server<3,>=2.4.0->notebook->jupyter) (3.7)\n",
      "Requirement already satisfied: argon2-cffi-bindings in /Users/apple/Library/Python/3.9/lib/python/site-packages (from argon2-cffi>=21.1->jupyter-server<3,>=2.4.0->notebook->jupyter) (21.2.0)\n",
      "Requirement already satisfied: rfc3339-validator in /Users/apple/Library/Python/3.9/lib/python/site-packages (from jupyter-events>=0.9.0->jupyter-server<3,>=2.4.0->notebook->jupyter) (0.1.4)\n",
      "Requirement already satisfied: python-json-logger>=2.0.4 in /Users/apple/Library/Python/3.9/lib/python/site-packages (from jupyter-events>=0.9.0->jupyter-server<3,>=2.4.0->notebook->jupyter) (2.0.7)\n",
      "Requirement already satisfied: pyyaml>=5.3 in /Users/apple/Library/Python/3.9/lib/python/site-packages (from jupyter-events>=0.9.0->jupyter-server<3,>=2.4.0->notebook->jupyter) (6.0.1)\n",
      "Requirement already satisfied: rfc3986-validator>=0.1.1 in /Users/apple/Library/Python/3.9/lib/python/site-packages (from jupyter-events>=0.9.0->jupyter-server<3,>=2.4.0->notebook->jupyter) (0.1.1)\n",
      "Requirement already satisfied: webcolors>=1.11 in /Users/apple/Library/Python/3.9/lib/python/site-packages (from jsonschema>=2.6->nbformat>=5.7->nbconvert->jupyter) (24.6.0)\n",
      "Requirement already satisfied: isoduration in /Users/apple/Library/Python/3.9/lib/python/site-packages (from jsonschema>=2.6->nbformat>=5.7->nbconvert->jupyter) (20.11.0)\n",
      "Requirement already satisfied: jsonpointer>1.13 in /Users/apple/Library/Python/3.9/lib/python/site-packages (from jsonschema>=2.6->nbformat>=5.7->nbconvert->jupyter) (2.4)\n",
      "Requirement already satisfied: uri-template in /Users/apple/Library/Python/3.9/lib/python/site-packages (from jsonschema>=2.6->nbformat>=5.7->nbconvert->jupyter) (1.3.0)\n",
      "Requirement already satisfied: fqdn in /Users/apple/Library/Python/3.9/lib/python/site-packages (from jsonschema>=2.6->nbformat>=5.7->nbconvert->jupyter) (1.5.1)\n",
      "Requirement already satisfied: jupyter-lsp>=2.0.0 in /Users/apple/Library/Python/3.9/lib/python/site-packages (from jupyterlab<4.3,>=4.2.0->notebook->jupyter) (2.2.5)\n",
      "Requirement already satisfied: tomli>=1.2.2 in /Users/apple/Library/Python/3.9/lib/python/site-packages (from jupyterlab<4.3,>=4.2.0->notebook->jupyter) (2.0.1)\n",
      "Requirement already satisfied: httpx>=0.25.0 in /Users/apple/Library/Python/3.9/lib/python/site-packages (from jupyterlab<4.3,>=4.2.0->notebook->jupyter) (0.27.0)\n",
      "Requirement already satisfied: setuptools>=40.1.0 in /Library/Developer/CommandLineTools/Library/Frameworks/Python3.framework/Versions/3.9/lib/python3.9/site-packages (from jupyterlab<4.3,>=4.2.0->notebook->jupyter) (58.0.4)\n",
      "Requirement already satisfied: async-lru>=1.0.0 in /Users/apple/Library/Python/3.9/lib/python/site-packages (from jupyterlab<4.3,>=4.2.0->notebook->jupyter) (2.0.4)\n",
      "Requirement already satisfied: certifi in /Users/apple/Library/Python/3.9/lib/python/site-packages (from httpx>=0.25.0->jupyterlab<4.3,>=4.2.0->notebook->jupyter) (2024.6.2)\n",
      "Requirement already satisfied: httpcore==1.* in /Users/apple/Library/Python/3.9/lib/python/site-packages (from httpx>=0.25.0->jupyterlab<4.3,>=4.2.0->notebook->jupyter) (1.0.5)\n",
      "Requirement already satisfied: h11<0.15,>=0.13 in /Users/apple/Library/Python/3.9/lib/python/site-packages (from httpcore==1.*->httpx>=0.25.0->jupyterlab<4.3,>=4.2.0->notebook->jupyter) (0.14.0)\n",
      "Requirement already satisfied: babel>=2.10 in /Users/apple/Library/Python/3.9/lib/python/site-packages (from jupyterlab-server<3,>=2.27.1->notebook->jupyter) (2.15.0)\n",
      "Requirement already satisfied: json5>=0.9.0 in /Users/apple/Library/Python/3.9/lib/python/site-packages (from jupyterlab-server<3,>=2.27.1->notebook->jupyter) (0.9.25)\n",
      "Requirement already satisfied: requests>=2.31 in /Users/apple/Library/Python/3.9/lib/python/site-packages (from jupyterlab-server<3,>=2.27.1->notebook->jupyter) (2.32.3)\n",
      "Requirement already satisfied: urllib3<3,>=1.21.1 in /Users/apple/Library/Python/3.9/lib/python/site-packages (from requests>=2.31->jupyterlab-server<3,>=2.27.1->notebook->jupyter) (2.2.1)\n",
      "Requirement already satisfied: charset-normalizer<4,>=2 in /Users/apple/Library/Python/3.9/lib/python/site-packages (from requests>=2.31->jupyterlab-server<3,>=2.27.1->notebook->jupyter) (3.3.2)\n",
      "Requirement already satisfied: cffi>=1.0.1 in /Users/apple/Library/Python/3.9/lib/python/site-packages (from argon2-cffi-bindings->argon2-cffi>=21.1->jupyter-server<3,>=2.4.0->notebook->jupyter) (1.16.0)\n",
      "Requirement already satisfied: pycparser in /Users/apple/Library/Python/3.9/lib/python/site-packages (from cffi>=1.0.1->argon2-cffi-bindings->argon2-cffi>=21.1->jupyter-server<3,>=2.4.0->notebook->jupyter) (2.22)\n",
      "Requirement already satisfied: arrow>=0.15.0 in /Users/apple/Library/Python/3.9/lib/python/site-packages (from isoduration->jsonschema>=2.6->nbformat>=5.7->nbconvert->jupyter) (1.3.0)\n",
      "Requirement already satisfied: types-python-dateutil>=2.8.10 in /Users/apple/Library/Python/3.9/lib/python/site-packages (from arrow>=0.15.0->isoduration->jsonschema>=2.6->nbformat>=5.7->nbconvert->jupyter) (2.9.0.20240316)\n",
      "Requirement already satisfied: qtpy>=2.4.0 in /Users/apple/Library/Python/3.9/lib/python/site-packages (from qtconsole->jupyter) (2.4.1)\n",
      "Requirement already satisfied: executing>=1.2.0 in /Users/apple/Library/Python/3.9/lib/python/site-packages (from stack-data->ipython>=7.23.1->ipykernel->jupyter) (2.0.1)\n",
      "Requirement already satisfied: asttokens>=2.1.0 in /Users/apple/Library/Python/3.9/lib/python/site-packages (from stack-data->ipython>=7.23.1->ipykernel->jupyter) (2.4.1)\n",
      "Requirement already satisfied: pure-eval in /Users/apple/Library/Python/3.9/lib/python/site-packages (from stack-data->ipython>=7.23.1->ipykernel->jupyter) (0.2.2)\n",
      "\u001b[33mWARNING: You are using pip version 21.2.4; however, version 24.1.1 is available.\n",
      "You should consider upgrading via the '/Library/Developer/CommandLineTools/usr/bin/python3 -m pip install --upgrade pip' command.\u001b[0m\n",
      "Defaulting to user installation because normal site-packages is not writeable\n",
      "Requirement already satisfied: langchain-community in /Users/apple/Library/Python/3.9/lib/python/site-packages (0.2.5)\n",
      "Requirement already satisfied: tenacity<9.0.0,>=8.1.0 in /Users/apple/Library/Python/3.9/lib/python/site-packages (from langchain-community) (8.3.0)\n",
      "Requirement already satisfied: numpy<2,>=1 in /Users/apple/Library/Python/3.9/lib/python/site-packages (from langchain-community) (1.26.4)\n",
      "Requirement already satisfied: dataclasses-json<0.7,>=0.5.7 in /Users/apple/Library/Python/3.9/lib/python/site-packages (from langchain-community) (0.6.7)\n",
      "Requirement already satisfied: requests<3,>=2 in /Users/apple/Library/Python/3.9/lib/python/site-packages (from langchain-community) (2.32.3)\n",
      "Requirement already satisfied: langsmith<0.2.0,>=0.1.0 in /Users/apple/Library/Python/3.9/lib/python/site-packages (from langchain-community) (0.1.75)\n",
      "Requirement already satisfied: langchain<0.3.0,>=0.2.5 in /Users/apple/Library/Python/3.9/lib/python/site-packages (from langchain-community) (0.2.5)\n",
      "Requirement already satisfied: SQLAlchemy<3,>=1.4 in /Users/apple/Library/Python/3.9/lib/python/site-packages (from langchain-community) (2.0.30)\n",
      "Requirement already satisfied: langchain-core<0.3.0,>=0.2.7 in /Users/apple/Library/Python/3.9/lib/python/site-packages (from langchain-community) (0.2.9)\n",
      "Requirement already satisfied: PyYAML>=5.3 in /Users/apple/Library/Python/3.9/lib/python/site-packages (from langchain-community) (6.0.1)\n",
      "Requirement already satisfied: aiohttp<4.0.0,>=3.8.3 in /Users/apple/Library/Python/3.9/lib/python/site-packages (from langchain-community) (3.9.5)\n",
      "Requirement already satisfied: attrs>=17.3.0 in /Users/apple/Library/Python/3.9/lib/python/site-packages (from aiohttp<4.0.0,>=3.8.3->langchain-community) (23.2.0)\n",
      "Requirement already satisfied: yarl<2.0,>=1.0 in /Users/apple/Library/Python/3.9/lib/python/site-packages (from aiohttp<4.0.0,>=3.8.3->langchain-community) (1.9.4)\n",
      "Requirement already satisfied: aiosignal>=1.1.2 in /Users/apple/Library/Python/3.9/lib/python/site-packages (from aiohttp<4.0.0,>=3.8.3->langchain-community) (1.3.1)\n",
      "Requirement already satisfied: frozenlist>=1.1.1 in /Users/apple/Library/Python/3.9/lib/python/site-packages (from aiohttp<4.0.0,>=3.8.3->langchain-community) (1.4.1)\n",
      "Requirement already satisfied: async-timeout<5.0,>=4.0 in /Users/apple/Library/Python/3.9/lib/python/site-packages (from aiohttp<4.0.0,>=3.8.3->langchain-community) (4.0.3)\n",
      "Requirement already satisfied: multidict<7.0,>=4.5 in /Users/apple/Library/Python/3.9/lib/python/site-packages (from aiohttp<4.0.0,>=3.8.3->langchain-community) (6.0.5)\n",
      "Requirement already satisfied: marshmallow<4.0.0,>=3.18.0 in /Users/apple/Library/Python/3.9/lib/python/site-packages (from dataclasses-json<0.7,>=0.5.7->langchain-community) (3.21.3)\n",
      "Requirement already satisfied: typing-inspect<1,>=0.4.0 in /Users/apple/Library/Python/3.9/lib/python/site-packages (from dataclasses-json<0.7,>=0.5.7->langchain-community) (0.9.0)\n",
      "Requirement already satisfied: langchain-text-splitters<0.3.0,>=0.2.0 in /Users/apple/Library/Python/3.9/lib/python/site-packages (from langchain<0.3.0,>=0.2.5->langchain-community) (0.2.1)\n",
      "Requirement already satisfied: pydantic<3,>=1 in /Users/apple/Library/Python/3.9/lib/python/site-packages (from langchain<0.3.0,>=0.2.5->langchain-community) (2.7.3)\n",
      "Requirement already satisfied: jsonpatch<2.0,>=1.33 in /Users/apple/Library/Python/3.9/lib/python/site-packages (from langchain-core<0.3.0,>=0.2.7->langchain-community) (1.33)\n",
      "Requirement already satisfied: packaging<25,>=23.2 in /Users/apple/Library/Python/3.9/lib/python/site-packages (from langchain-core<0.3.0,>=0.2.7->langchain-community) (23.2)\n",
      "Requirement already satisfied: jsonpointer>=1.9 in /Users/apple/Library/Python/3.9/lib/python/site-packages (from jsonpatch<2.0,>=1.33->langchain-core<0.3.0,>=0.2.7->langchain-community) (2.4)\n",
      "Requirement already satisfied: orjson<4.0.0,>=3.9.14 in /Users/apple/Library/Python/3.9/lib/python/site-packages (from langsmith<0.2.0,>=0.1.0->langchain-community) (3.10.3)\n",
      "Requirement already satisfied: pydantic-core==2.18.4 in /Users/apple/Library/Python/3.9/lib/python/site-packages (from pydantic<3,>=1->langchain<0.3.0,>=0.2.5->langchain-community) (2.18.4)\n",
      "Requirement already satisfied: typing-extensions>=4.6.1 in /Users/apple/Library/Python/3.9/lib/python/site-packages (from pydantic<3,>=1->langchain<0.3.0,>=0.2.5->langchain-community) (4.12.2)\n",
      "Requirement already satisfied: annotated-types>=0.4.0 in /Users/apple/Library/Python/3.9/lib/python/site-packages (from pydantic<3,>=1->langchain<0.3.0,>=0.2.5->langchain-community) (0.7.0)\n",
      "Requirement already satisfied: charset-normalizer<4,>=2 in /Users/apple/Library/Python/3.9/lib/python/site-packages (from requests<3,>=2->langchain-community) (3.3.2)\n",
      "Requirement already satisfied: certifi>=2017.4.17 in /Users/apple/Library/Python/3.9/lib/python/site-packages (from requests<3,>=2->langchain-community) (2024.6.2)\n",
      "Requirement already satisfied: idna<4,>=2.5 in /Users/apple/Library/Python/3.9/lib/python/site-packages (from requests<3,>=2->langchain-community) (3.7)\n",
      "Requirement already satisfied: urllib3<3,>=1.21.1 in /Users/apple/Library/Python/3.9/lib/python/site-packages (from requests<3,>=2->langchain-community) (2.2.1)\n",
      "Requirement already satisfied: greenlet!=0.4.17 in /Users/apple/Library/Python/3.9/lib/python/site-packages (from SQLAlchemy<3,>=1.4->langchain-community) (3.0.3)\n",
      "Requirement already satisfied: mypy-extensions>=0.3.0 in /Users/apple/Library/Python/3.9/lib/python/site-packages (from typing-inspect<1,>=0.4.0->dataclasses-json<0.7,>=0.5.7->langchain-community) (1.0.0)\n",
      "\u001b[33mWARNING: You are using pip version 21.2.4; however, version 24.1.1 is available.\n",
      "You should consider upgrading via the '/Library/Developer/CommandLineTools/usr/bin/python3 -m pip install --upgrade pip' command.\u001b[0m\n"
     ]
    }
   ],
   "source": [
    "!pip3 install jupyter --upgrade\n",
    "!pip3 install langchain-community\n",
    "\n",
    "\n",
    "\n",
    "\n"
   ]
  },
  {
   "cell_type": "code",
   "execution_count": 5,
   "metadata": {},
   "outputs": [
    {
     "name": "stderr",
     "output_type": "stream",
     "text": [
      "/Users/apple/Library/Python/3.9/lib/python/site-packages/urllib3/__init__.py:35: NotOpenSSLWarning: urllib3 v2 only supports OpenSSL 1.1.1+, currently the 'ssl' module is compiled with 'LibreSSL 2.8.3'. See: https://github.com/urllib3/urllib3/issues/3020\n",
      "  warnings.warn(\n"
     ]
    }
   ],
   "source": [
    "import requests"
   ]
  },
  {
   "cell_type": "code",
   "execution_count": 6,
   "metadata": {},
   "outputs": [],
   "source": [
    "import chromadb\n",
    "import numpy"
   ]
  },
  {
   "cell_type": "code",
   "execution_count": 8,
   "metadata": {},
   "outputs": [
    {
     "name": "stdout",
     "output_type": "stream",
     "text": [
      "{'embedding': [-3.0615127086639404, -2.040092706680298, 3.296297311782837, 0.5453862547874451, 0.8021398186683655, 1.7417690753936768, -0.3473708927631378, 1.804307460784912, -2.7268757820129395, 2.939164400100708, -0.3493029773235321, -1.2189806699752808, 0.567453145980835, -0.21763521432876587, -0.09458506852388382, 2.8936843872070312, 0.40455999970436096, 3.2239034175872803, -2.4429662227630615, 2.1748650074005127, -2.823455810546875, 1.3298728466033936, 1.357390284538269, 0.3917418122291565, -2.5523977279663086, 1.57057785987854, 2.1441190242767334, 8.368847846984863, 3.0083441734313965, -2.51922607421875, -1.2583260536193848, 5.575753688812256, 2.8378701210021973, 0.47998079657554626, 3.474661350250244, 1.7481316328048706, -3.9562864303588867, -0.520336925983429, -1.6449007987976074, 1.700429916381836, 0.924757182598114, -1.2721534967422485, -1.01193106174469, -1.8977446556091309, 2.8658316135406494, 2.167705535888672, -0.6363341808319092, 1.7653838396072388, 0.5697784423828125, -3.908933639526367, -0.14299723505973816, -2.4105794429779053, -5.341698169708252, -0.5929906964302063, -2.587000846862793, 1.3993690013885498, -0.34668147563934326, -3.4853708744049072, -4.038693428039551, 1.3337395191192627, -2.616910457611084, -0.3422591984272003, -0.10252254456281662, 0.4287927746772766, 0.21781060099601746, -2.343754768371582, 1.3907140493392944, 0.37016183137893677, 1.1665496826171875, 3.0098841190338135, 1.3613988161087036, -0.013477548025548458, 1.9075515270233154, -2.015878200531006, 1.2567814588546753, -3.2205827236175537, 0.975062370300293, 3.879549980163574, -4.850204944610596, -0.5153014063835144, -4.65034818649292, -0.40928345918655396, -2.8764543533325195, 0.844709575176239, -0.31609225273132324, 2.058480978012085, 1.0614739656448364, -2.299722909927368, -0.17340564727783203, 4.08854341506958, 6.546278476715088, -0.5537832379341125, 1.2008302211761475, -0.3618786036968231, 0.6437509059906006, 2.1712710857391357, 2.621290683746338, 3.635500431060791, 1.3740887641906738, -0.2957419455051422, 1.6660610437393188, -0.2550548315048218, -0.018954919651150703, 1.5069546699523926, 0.4915124773979187, -1.3456655740737915, -2.1157267093658447, 2.5307199954986572, 0.009262590669095516, 0.7621619701385498, 0.38355937600135803, -1.389453411102295, -0.19347667694091797, 0.04223063588142395, -2.715073585510254, 0.317087858915329, 3.153146982192993, -3.54048228263855, -5.768124103546143, 3.2439749240875244, 0.09516050666570663, -0.08992166072130203, 1.7250099182128906, -0.04268382489681244, 1.4175275564193726, -0.8492814898490906, 1.761229157447815, 0.6810001730918884, 1.1708528995513916, 0.5221667289733887, -5.6670241355896, -0.749527096748352, 1.0727615356445312, 0.13675859570503235, 0.021558918058872223, -0.16430170834064484, -2.3602559566497803, 2.2177438735961914, -2.901649236679077, -2.882892608642578, -2.9886109828948975, -2.926525354385376, 0.2842456102371216, -0.9719148278236389, -3.439072370529175, 0.9910857677459717, -1.0375490188598633, -4.175489902496338, 1.8267887830734253, 2.2350943088531494, -1.8916020393371582, -1.7196422815322876, -0.07510727643966675, 3.0791656970977783, -0.32247087359428406, -0.48742440342903137, -0.596879780292511, -2.73555326461792, 1.7858996391296387, 2.247913360595703, 2.469830274581909, 1.573173999786377, 2.2024660110473633, 1.8088123798370361, -2.9822795391082764, 0.0001903745869640261, 0.8204023838043213, 3.4115161895751953, 0.22014029324054718, -2.0142154693603516, 2.6895060539245605, 0.8087303638458252, -0.5824469923973083, -0.5264735817909241, 0.28683707118034363, -3.2066848278045654, -4.393604755401611, -0.30318644642829895, -0.9757638573646545, 0.41794005036354065, 0.3196025490760803, 0.918678343296051, 0.6965631246566772, -1.1694060564041138, 2.344484329223633, -3.2363736629486084, -0.9216364026069641, 2.426750421524048, 0.3589939475059509, 3.4840822219848633, 0.8659663796424866, -0.05297454446554184, -2.011265277862549, 2.343810558319092, 0.5220105648040771, 3.0408823490142822, -3.363830327987671, 1.475204586982727, -2.3120627403259277, -4.909975528717041, 0.904473602771759, 1.0570381879806519, 3.41766619682312, -4.785919666290283, -2.2021164894104004, 1.4659110307693481, 7.3256425857543945, 1.0214684009552002, 1.733862042427063, 1.9688982963562012, -1.2245540618896484, -1.8936442136764526, 0.47797662019729614, -2.2731223106384277, -1.1434574127197266, -0.6592591404914856, 1.6446760892868042, -1.350068211555481, 3.1016740798950195, -3.9101181030273438, 1.2165011167526245, 0.6947966814041138, -2.331480026245117, -3.382416248321533, 1.4131213426589966, -1.1652065515518188, -0.6504246592521667, 2.9902799129486084, 0.07655210047960281, 1.406189203262329, -3.7464330196380615, -2.6840624809265137, 1.895835518836975, 0.5269247889518738, -3.1776981353759766, 0.9124022722244263, 6.804752826690674, 2.6986451148986816, 0.4927460551261902, 1.3533140420913696, -2.4343650341033936, 1.9456936120986938, -0.2849782705307007, 3.0985403060913086, 2.487647294998169, 2.2914512157440186, 4.050642967224121, 4.316553592681885, -2.03749942779541, -3.354693651199341, 0.11831413954496384, -1.3090957403182983, 0.9047232270240784, -0.6793104410171509, 3.448108673095703, -1.3160533905029297, 3.0799291133880615, -0.31651315093040466, -1.0190755128860474, -0.5370112061500549, 0.6052573919296265, -0.9713075160980225, -1.6085394620895386, -3.9267771244049072, -2.0518057346343994, -3.5591139793395996, -3.6155388355255127, 2.101628303527832, -0.07711251825094223, -2.6382198333740234, -2.4650251865386963, -4.316168785095215, -1.6727488040924072, -0.6675743460655212, 0.8910300731658936, -0.25949785113334656, -0.09697632491588593, 0.20918357372283936, 0.7380579113960266, 0.7857614159584045, -0.5784098505973816, -2.991339683532715, -2.5771238803863525, -1.1472164392471313, -1.5424410104751587, -3.524371862411499, 1.5349904298782349, -0.38023239374160767, 4.987127304077148, -10.909268379211426, -8.448921203613281, 1.4071308374404907, -0.6272005438804626, -2.627379894256592, 0.824024498462677, 1.704135537147522, 3.441650390625, -2.7085013389587402, -5.186009407043457, -2.7227656841278076, 0.5796030759811401, 2.675297498703003, -1.6897392272949219, -2.4007492065429688, 0.57187819480896, -2.237977981567383, 2.3068127632141113, -1.5249842405319214, 0.15455305576324463, -3.6849920749664307, 0.9651651978492737, -2.3554296493530273, -0.4411727786064148, -1.730542778968811, 4.223582744598389, 1.9306159019470215, -0.2872803807258606, -1.0376983880996704, 0.4814664423465729, 0.34371352195739746, -4.717068672180176, -1.3682671785354614, 1.6498041152954102, -0.24081309139728546, -2.534170627593994, -0.8953268527984619, -1.7719802856445312, -2.2823379039764404, -2.238161325454712, -1.3139292001724243, 1.0761929750442505, -0.9455506801605225, -0.07569612562656403, 3.9033284187316895, 3.46043062210083, 0.41173502802848816, 2.6459505558013916, 1.325027346611023, -2.399834156036377, -0.011386662721633911, -2.452275276184082, 0.4703676700592041, -2.219011068344116, 0.36562758684158325, 1.1884963512420654, -0.8413779735565186, 0.18764139711856842, -0.3359510600566864, 0.5648664236068726, -0.5759583115577698, 0.0979963168501854, -3.0238614082336426, 1.8598906993865967, 2.3689768314361572, 0.5100134611129761, 0.4087951183319092, 1.4231288433074951, 3.914438247680664, 0.03863827511668205, -1.0272256135940552, -0.9441495537757874, 0.9196702241897583, 0.8329031467437744, 4.369337558746338, 2.4922354221343994, -1.9364662170410156, -2.9879660606384277, -0.020261449739336967, -0.8640725612640381, 1.7973562479019165, 3.6835737228393555, -1.2203903198242188, -4.1109700202941895, -0.3233623206615448, 0.3290894329547882, 2.6725921630859375, -0.23801477253437042, 0.8959714770317078, 0.8774757981300354, -1.3181788921356201, 0.2552313208580017, -0.7280514240264893, 2.6151959896087646, -0.40539124608039856, -0.4655218720436096, 2.171581268310547, -0.12137624621391296, -1.364159345626831, -0.5052255988121033, 1.9978238344192505, -1.0312360525131226, 3.500467300415039, 1.1640090942382812, -0.8228475451469421, 0.9337905645370483, 0.3326682448387146, -2.0257177352905273, -0.7417131662368774, -2.434844970703125, 2.22479510307312, 2.5876548290252686, 1.6396750211715698, -5.349566459655762, -0.5150951147079468, -0.1432933211326599, 2.614956855773926, 0.3684925436973572, -4.272489547729492, 0.05229655280709267, -2.841869354248047, -2.033257007598877, -0.3959222137928009, 0.3254728317260742, 0.2385583519935608, -0.37901127338409424, -0.2530841529369354, 2.4042906761169434, -6.219372749328613, 0.193718820810318, -0.3610883951187134, -3.803680896759033, -0.15352529287338257, -1.9352190494537354, 5.59991455078125, -1.3744261264801025, -2.870927572250366, -0.8314667344093323, 0.7324806451797485, -4.023477554321289, -0.18785935640335083, 0.7394229173660278, 2.8724889755249023, -1.240767478942871, 0.27026665210723877, 2.9762048721313477, 4.32676887512207, -0.6573261618614197, -1.8976240158081055, -6.553397178649902, 2.6896255016326904, 1.5052735805511475, -0.18696795403957367, -0.3557628393173218, 0.9425753355026245, -5.058624744415283, 0.20478062331676483, -0.6310620307922363, -2.0639808177948, 1.8716084957122803, -0.7504234313964844, -3.2026448249816895, -0.3149203062057495, 1.7758393287658691, -1.6038227081298828, -0.8905606269836426, -3.804168939590454, -1.96353018283844, 2.646480083465576, -1.7703830003738403, -1.4132544994354248, 0.01686386950314045, 1.223737120628357, -2.238203763961792, -1.3904563188552856, -1.5413267612457275, 0.003920113202184439, 3.7324154376983643, -3.298830509185791, 5.917672634124756, -1.8131306171417236, -0.8913438320159912, 1.0707014799118042, 2.8165247440338135, -0.6897147297859192, -0.34150806069374084, -1.3212313652038574, -0.49299415946006775, 2.2916078567504883, -1.7436885833740234, -2.4905364513397217, 0.35465776920318604, -2.9871506690979004, -4.196357250213623, 1.4506267309188843, 3.689337968826294, -0.7505047917366028, -1.286386489868164, 4.951894760131836, -2.0952301025390625, -6.219459056854248, 2.052124500274658, -0.996816098690033, -0.8600443601608276, 1.2476190328598022, -0.7099771499633789, -0.20343492925167084, -1.0000468492507935, 0.617936372756958, -1.075482726097107, 0.20427736639976501, -1.324004888534546, -4.960235595703125, -0.7430987358093262, 0.40191778540611267, -4.230266571044922, 0.1863192766904831, -1.0925185680389404, 0.6827131509780884, -1.382867455482483, -0.040713369846343994, 3.179988145828247, -0.9764214158058167, -1.4108179807662964, 2.484517812728882, -3.883129358291626, 1.3033050298690796, -4.605082035064697, -1.5856950283050537, 5.969727039337158, 0.09920912235975266, -0.5717234015464783, 0.3163156807422638, -0.2015908807516098, 4.633790016174316, -1.0004106760025024, -3.454636335372925, -2.1549391746520996, 2.2488601207733154, 1.007485270500183, 4.046319007873535, -1.3877781629562378, -5.113688945770264, -0.24612241983413696, -1.7557061910629272, -1.1949814558029175, -0.5985673069953918, 2.1176512241363525, -0.02898978441953659, -5.099539756774902, -0.9074931740760803, -1.7589572668075562, -0.14893491566181183, -3.2356808185577393, -4.066267013549805, 0.3044966757297516, 0.5665333867073059, -0.3797908127307892, 1.5180060863494873, -1.3912031650543213, 0.8715311288833618, -3.7072789669036865, 1.4866207838058472, 0.28917670249938965, 0.7552054524421692, 1.4817867279052734, 0.5476505160331726, 1.165001630783081, 0.011877843178808689, 4.360825061798096, -0.8091227412223816, -3.692445993423462, 1.5754817724227905, -1.4291259050369263, 2.3472602367401123, 1.256406307220459, 2.743602752685547, -2.0573041439056396, 2.138188362121582, -1.0082612037658691, -3.421959161758423, 1.1119201183319092, 2.9133667945861816, -0.711330235004425, 2.1327145099639893, -1.8026751279830933, -2.0977163314819336, 2.3888533115386963, 3.667781114578247, -1.1952999830245972, 3.9429633617401123, 3.4762122631073, -1.4376869201660156, -0.522873044013977, 1.7192083597183228, -5.358114242553711, -0.18951962888240814, -0.14239025115966797, -0.344695508480072, -4.755745887756348, -3.526167869567871, -1.8864339590072632, 4.40797758102417, 0.3005684018135071, -3.9052700996398926, -3.143444061279297, -2.1871204376220703, -0.9132297039031982, 3.617157459259033, -0.0002315742603968829, 2.1894688606262207, 0.8818764090538025, 1.669996738433838, 0.80450439453125, 3.95377516746521, 0.922831654548645, -2.25923228263855, -1.7023006677627563, -1.9811147451400757, 3.7257745265960693, 0.016478363424539566, 2.3677897453308105, 0.9335787892341614, 0.8475997447967529, 1.4335159063339233, 0.6573827862739563, 3.7807631492614746, -2.2334418296813965, 1.3181564807891846, 2.4310567378997803, -0.356874942779541, -0.9908972978591919, 1.5169918537139893, -1.3401340246200562, -2.421999216079712, -3.857501745223999, -2.528364658355713, -1.4644695520401, 5.548986911773682, -0.7103660106658936, -0.5705269575119019, 3.3989458084106445, 4.104180812835693, -2.9286746978759766, -0.4852692186832428, -0.17298533022403717, 2.158917188644409, -4.595767021179199, 0.10898944735527039, 3.4187707901000977, -1.307427167892456, -1.2257401943206787, 3.713338613510132, -1.7093794345855713, 0.3703838586807251, -1.4638519287109375, 2.091496706008911, -1.2513545751571655, -2.9761509895324707, -1.2711259126663208, 0.5325651168823242, -0.1353003978729248, 0.012825805693864822, 0.48215144872665405, 1.4267315864562988, -1.3761357069015503, 0.9132845997810364, 0.32951948046684265, 0.3930138349533081, 0.9501833915710449, -0.24765293300151825, 3.8125741481781006, -0.183262437582016, 1.0114730596542358, 0.21719908714294434, -2.290822744369507, -0.33441030979156494, 0.13184720277786255, 0.7363898754119873, -1.1920300722122192, 0.3741578161716461, 1.6628280878067017, -1.8951386213302612, -1.3643765449523926, -0.08730114251375198, 2.4593899250030518, -1.5872375965118408, -0.8226679563522339, -3.6545157432556152, 5.473697185516357, 2.013329029083252, 1.5582236051559448, 0.6945508718490601, 0.8392486572265625, -3.421306848526001, 2.7625017166137695, 2.627077102661133, -1.1365163326263428, -3.3448309898376465, 4.227336406707764, -0.22430087625980377, 0.770382821559906, -3.7659013271331787, 2.0891778469085693, 0.7425296306610107, -3.7340750694274902, -0.29612112045288086, 0.3144591748714447, -4.033886909484863, 1.050553560256958, 0.9740904569625854, 0.33249223232269287, 1.0950785875320435, 3.2615060806274414, 5.073227882385254, -2.6156768798828125, -0.9926366806030273, 3.141745090484619, -1.7582731246948242, 1.5975918769836426, 3.6536433696746826, -0.7615851759910583, -3.331153154373169, -0.30551454424858093, 1.8351528644561768, -1.1177409887313843, 2.9968607425689697, -1.1362961530685425, 1.445583462715149, 1.5032192468643188, -2.0431418418884277, -0.7819366455078125, -1.6483662128448486, 0.05310753732919693, 1.545620083808899, 3.1715524196624756, -3.0681087970733643, -3.0176920890808105, 1.962584376335144, 0.7286741137504578, -0.8112642765045166, 4.475474834442139, -1.4827051162719727, -0.8120825290679932, -0.7294880747795105, 1.6722198724746704, -2.715954303741455, 1.3262550830841064, -2.4891881942749023, -0.2450551986694336, -2.3636207580566406, 0.8908916711807251, 1.1531563997268677, -0.22450856864452362, 1.3550341129302979, 2.706692695617676, -1.0550801753997803, 0.14357931911945343, 0.7600804567337036, 2.7344279289245605, 0.9373776316642761, 0.29623663425445557, -2.9708778858184814, -0.4663897454738617, 1.2009385824203491, 2.25935435295105, -2.7233262062072754, 2.9988973140716553, -2.60451602935791, -0.3597254157066345, 0.16748812794685364, -5.596349239349365, 0.7427053451538086, 4.137834072113037, 1.2908247709274292, -1.0112707614898682, -3.8015522956848145, -0.9709283709526062, 1.7137693166732788, 2.8491806983947754, 0.3034220039844513, -0.6307359933853149, -2.969224691390991, -1.205848217010498, -3.974410057067871, 1.902989149093628, 2.223940134048462, 0.2237708866596222, 1.324865460395813, -2.6189475059509277, -0.4736506938934326, -0.3804996609687805, -1.1407755613327026, -10.272446632385254, 0.8494352698326111, 1.8924964666366577, 1.3704737424850464, -1.7265613079071045, 0.10112578421831131, -0.23447628319263458, -2.4533278942108154, -1.3602604866027832, -1.8754245042800903, 1.7090086936950684, -0.9069957137107849, -0.8051896095275879, -0.12664899230003357, -0.746566116809845, 0.8579871654510498, 1.4493242502212524, 0.15067803859710693, -0.5076395869255066, -1.0668375492095947, 1.95269775390625, -2.8425607681274414, -3.070296287536621, -0.12962880730628967, -2.0951900482177734, -0.5309379696846008, -0.8341365456581116, -2.288438320159912, -5.398777961730957, -2.548809766769409, -5.003027439117432, -0.7822801470756531, 1.19831383228302, -0.8754913806915283, 2.3434665203094482, -2.1012611389160156, 2.7826807498931885, 0.7520727515220642, -1.784119725227356, -1.9544812440872192, -0.9247332811355591, -0.43751707673072815, 5.85788106918335, 3.175873041152954, -1.149243712425232, -2.1764614582061768, -0.3689053952693939, -1.580919623374939, -0.28464075922966003, 2.364497661590576, -4.246494770050049, 0.7187075018882751, -1.4109485149383545, 4.038268089294434, -2.796344518661499, -2.0785017013549805, -0.3717043697834015, 2.492281198501587, 3.1449408531188965, -1.2470252513885498, 5.159903049468994, 0.1782279759645462, -2.61586332321167, 1.2267038822174072, 0.6518630981445312, -0.5495042204856873, -1.6724380254745483, -4.784311294555664, 0.38560277223587036, -4.39944314956665, 1.0136935710906982, 5.389441013336182, 1.237316370010376, -5.197273254394531, 0.15904252231121063, 1.2904130220413208, 3.449960947036743, -0.2204563021659851, -0.31137359142303467, 0.5367220044136047, 0.09348050504922867, 2.8196334838867188, 2.0898189544677734, -1.8402106761932373, -0.4503103494644165, 0.25602301955223083, -3.5106546878814697, 2.4221131801605225, -1.2318329811096191, -1.1752464771270752, -3.936898708343506, 1.0421220064163208, 0.5436257123947144, -0.35533902049064636, 3.2631306648254395, -2.347686767578125, -1.2295602560043335, -1.6719938516616821, -0.7007777690887451, 2.604600429534912, 1.431625247001648, 1.6720017194747925, 0.323509156703949, -0.4288153052330017, 1.99714195728302, 0.8841723799705505, 0.06266090273857117, -2.0912158489227295, -2.3043324947357178, -1.4743109941482544, -2.383730888366699, 12.652434349060059, -3.2578368186950684, -2.7487292289733887, -0.7878459692001343, 0.7843118906021118, 0.1461629718542099, 1.6319862604141235, -0.9304336309432983, -2.881521701812744, 1.3650914430618286, -0.47060978412628174, 1.1881208419799805, -2.2854692935943604, -2.7363498210906982, -1.4167648553848267, -4.718096733093262, -2.0105721950531006, 5.240547180175781, 1.634711503982544, -0.6092256307601929, 0.853277325630188, -2.0351803302764893, 3.0353024005889893, -0.042174119502305984, -2.50954008102417, -1.9623233079910278, 1.2507071495056152, -5.991518497467041, -1.8506025075912476, 2.1941850185394287, -1.0063059329986572, 1.0451081991195679, -4.094998836517334, -0.5034166574478149, 6.9073686599731445, 1.9176439046859741, -3.095874309539795, 4.517459869384766, 1.8506255149841309, 1.06040358543396, 2.094722270965576, 0.32471054792404175, 1.4163984060287476, -2.4658396244049072, -0.7701014876365662, 1.7292925119400024, -2.5608127117156982, 11.779851913452148, 2.4637629985809326, 4.069002628326416, 0.16550816595554352, 5.356002330780029, -1.3230372667312622, -3.570941925048828, 1.2178059816360474, -2.448268175125122, -0.4366014003753662, -0.12890838086605072, 4.314565181732178, -1.666414737701416, -1.1088666915893555, 0.8639944791793823, -0.250949501991272, -1.5751988887786865, -1.4144508838653564, 2.078972101211548, -2.3058841228485107, -3.1178171634674072, 4.04038143157959, 1.1142196655273438, -0.27462872862815857, 2.599858283996582, -2.036882162094116, 1.9800293445587158, 4.842169284820557, -2.5600132942199707, -1.5109943151474, -2.39513897895813, -1.5868719816207886, 0.7344004511833191, 3.597147226333618, 1.4106038808822632, -3.629431962966919, -0.9158315658569336, -7.56050968170166, 0.7094131112098694, -0.8253853917121887, 1.0642203092575073, -1.8669164180755615, 1.4313441514968872, 4.369668006896973, 3.1272714138031006, -2.1662724018096924, -1.4992505311965942, -0.6130277514457703, 0.9555048942565918, 0.1636676788330078, 1.6018643379211426, -1.1565282344818115, 0.37175193428993225, -1.3555700778961182, 0.8842549324035645, -1.1201187372207642, -1.2083109617233276, 1.1136852502822876, -0.12969955801963806, 1.288064956665039, 1.6396775245666504, 0.9200429916381836, -2.4556543827056885, 2.25311017036438, -1.7987245321273804, 2.8074917793273926, 1.6349799633026123, -1.3041788339614868, -5.236240386962891, -1.2611786127090454, -0.44201597571372986, -0.6917273998260498, 0.5394781827926636, -4.724372863769531, -0.23603053390979767, -2.4177308082580566, 2.5799484252929688, -3.048734664916992, -3.89949369430542, -0.7129790782928467, -2.5290729999542236, 0.6439701914787292, -2.272951602935791, 1.8616981506347656, 0.3806547224521637, 0.8288763761520386, 1.0241774320602417, -3.336473226547241, -0.04475899040699005, 0.4234939217567444, -0.7704057693481445, 0.13740836083889008, -3.282219409942627, 0.2945411801338196, 0.10335571318864822, 0.5481200814247131, 2.117265224456787, -0.464114785194397, -2.5499234199523926, 6.3198089599609375, -4.328975677490234, -0.6048244833946228, -0.4645185172557831, -1.1661744117736816, -2.4603803157806396, 3.0538017749786377, 3.4628686904907227, 0.6368457674980164, 5.736749649047852, 0.39939332008361816, -7.546163558959961, 2.333641767501831, 4.1772637367248535, -4.242932319641113, -1.4675674438476562, -0.7195048928260803, -2.219172477722168, -0.1755417138338089, -1.7453049421310425, -4.112759113311768, -0.5797111392021179, -3.4298908710479736, -2.0223143100738525, 1.1761150360107422, -3.8621535301208496, 1.8923373222351074, 2.0645601749420166, 4.7130446434021, 2.5460472106933594, 1.2302629947662354, 3.0224697589874268, -1.3905785083770752, 0.7664317488670349, -2.8800570964813232, -3.216059923171997, 0.8512143492698669, -1.3795922994613647, 3.5552256107330322, -1.1330691576004028, -0.6653943657875061, -1.1137545108795166, -1.976809024810791, 0.08331429213285446, 0.039199650287628174, -2.678209066390991, 1.9862838983535767, 2.5759825706481934, 1.8368444442749023, -1.6875571012496948, -3.5203046798706055, 0.6122289896011353, -0.5649986267089844, 2.136762857437134, -3.3710124492645264, -2.648171901702881, 1.6038994789123535, -0.21771888434886932, 2.030648708343506, -0.5306195020675659, -3.4012017250061035, -0.2683616578578949, -2.8051347732543945, -2.2572860717773438, 1.1534662246704102, -1.0589144229888916, -1.517471194267273, 2.5812575817108154, 3.842583179473877, -1.653876781463623, 3.3849165439605713, 1.5263346433639526, 2.0320546627044678, -2.08905029296875, -1.5533138513565063, -1.319061279296875, 0.20264093577861786, -1.5948166847229004, -1.4286001920700073, -2.286146640777588, 2.9364466667175293, -0.9888690114021301, 0.5792733430862427, -3.662193775177002, 5.792535781860352, 2.5604047775268555, 2.2733254432678223, -1.051375389099121, -4.4930925369262695, -2.550947427749634, -2.4440951347351074, 1.0736137628555298, -0.8638871908187866, -1.0178793668746948, -1.1607470512390137, -2.183250904083252, -0.9242584705352783, 0.8228328824043274, 0.8522185683250427, -0.39219507575035095, 5.624455451965332, -2.3150105476379395, -2.9784953594207764, 0.3461852967739105, 0.08319930732250214, 6.174124240875244, -0.0007992087048478425, 2.1204512119293213, -0.21977758407592773, 0.4265170693397522, 0.6281223297119141, 3.2115514278411865, -4.496269226074219, -0.34117579460144043, -0.684027910232544, 2.6812283992767334, 1.4693257808685303, 1.638555645942688, 0.02415054850280285, -2.170891046524048, -1.8727413415908813, -1.6317331790924072, -0.06005454435944557, -5.745694637298584, -1.405173420906067, -2.6602420806884766, 0.09006031602621078, -0.8296483755111694, 3.073542356491089, 1.966052770614624, -5.963615894317627, 2.1849899291992188, 3.323781728744507, 0.02708432637155056, -0.05524459108710289, 0.9154230952262878, 0.9852414131164551, 2.0910797119140625, 3.2442753314971924, 3.78273868560791, -1.110167145729065, -1.8933618068695068, 1.2686126232147217, -0.6573094725608826, 0.39156556129455566, -1.9487369060516357, 0.6361907720565796, 2.7739639282226562, 1.2553126811981201, 2.118509292602539, 12.27918815612793, 2.306692361831665, -0.5865124464035034, 1.3469679355621338, 2.9292757511138916, 2.514071226119995, 1.1619611978530884, 0.8641425967216492, -0.41336119174957275, 0.8761898875236511, -1.6336822509765625, 0.49771416187286377, -3.4654150009155273, -2.344731092453003, 0.6630789637565613, -0.21202635765075684, -2.9197490215301514, 0.9096621870994568, -2.3076462745666504, 2.020082712173462, 0.33365920186042786, 3.907388687133789, 10.807014465332031, -1.3370256423950195, -0.09130991995334625, -0.6847100853919983, -1.9860401153564453, -1.064712643623352, -1.6662087440490723, -1.194879174232483, -1.4804210662841797, 1.2886430025100708, 2.0635814666748047, -1.891150951385498, 0.11652728170156479, -5.543217182159424, -0.9206932187080383, 2.2843360900878906, -1.4224295616149902, 1.1450579166412354, 1.9856361150741577, 0.2797635495662689, 2.2689120769500732, 0.22550973296165466, 2.7889621257781982, 0.673215389251709, 2.3571012020111084, 2.396568775177002, 1.7302448749542236, -2.3254592418670654, -1.234002709388733, 2.7451653480529785, -0.5596354007720947, -1.0434389114379883, 1.198214054107666, -0.06363801658153534, 0.46419715881347656, -1.9187651872634888, -2.907805919647217, 1.661198377609253, 0.10180018842220306, 0.3948996663093567, -0.4989091157913208, 0.42938685417175293, -1.4396579265594482, -2.602677822113037, -0.22220778465270996, -2.0482046604156494, 1.6132198572158813, 1.1814377307891846, 0.1245238184928894, -1.8506300449371338, 3.2234320640563965, -1.2692559957504272, -1.6153960227966309, -3.2054221630096436, -3.128138303756714, -0.14219920337200165, -0.8364457488059998, -1.109201431274414, 0.04821003973484039, 0.6287652850151062, 1.752454161643982, 2.792950391769409, 1.1854299306869507, 2.203742742538452, 0.6151698231697083, 0.06053382158279419, 1.6477965116500854, -0.07700318843126297, 2.2721636295318604, 1.0567210912704468, 0.6437010169029236, 0.7387617230415344, 3.096891403198242, -1.7137128114700317, 0.1177782341837883, -6.252951622009277, -3.929853677749634, -0.5583765506744385, 0.6714327335357666, 1.259223222732544, -1.8303107023239136, 1.7519840002059937, 2.550429582595825, 0.22777722775936127, -1.1592046022415161, -2.307244062423706, -0.09090340882539749, -8.35323429107666, 2.6237432956695557, -0.0955793485045433, -2.937358856201172, -3.3007192611694336, -1.4517368078231812, -1.4718703031539917, 5.156569957733154, 2.914278030395508, 2.3611605167388916, 5.873591899871826, -0.31052348017692566, -0.41334274411201477, 2.279148578643799, 2.175131320953369, 4.188011646270752, -0.1618981510400772, -2.4933154582977295, -1.4741830825805664, -0.8884958028793335, -0.6402758359909058, -2.4325602054595947, 0.059245288372039795, 1.7944202423095703, 2.2859914302825928, -0.13239100575447083, -0.8752299547195435, -1.2253987789154053, 5.318276882171631, -0.2894056737422943, 1.7096930742263794, 1.373897671699524, -0.49789682030677795, 5.405066013336182, 0.1021968424320221, 0.9942067861557007, -2.069916009902954, 2.2095117568969727, 0.36059749126434326, -1.22970449924469, 0.8654868602752686, 1.1767034530639648, 3.4269237518310547, 1.5240522623062134, -4.787232398986816, 6.300270080566406, -11.63413143157959, -0.411438912153244, -0.5040958523750305, -1.563173532485962, -0.8011511564254761, -5.462272644042969, -0.4116393029689789, 0.8488572239875793, 2.031254291534424, 1.822715163230896, 2.095357894897461, -0.528318464756012, 2.851346254348755, 1.5970550775527954, 1.2636699676513672, 3.6939616203308105, -2.1179087162017822, 0.038685619831085205, 5.5727620124816895, 0.34377166628837585, 2.2529046535491943, 1.1200687885284424, 3.0750954151153564, 2.5915286540985107, -1.3061999082565308, 2.1660056114196777, 4.603427410125732, -2.7551262378692627, -1.0110257863998413, -3.233882427215576, 0.18827369809150696, -2.73270583152771, -2.5827269554138184, 2.3541765213012695, 1.5878832340240479, -1.602523922920227, 2.525144577026367, 1.8538838624954224, 12.508185386657715, -3.0609352588653564, 0.5706376433372498, 1.740067720413208, 0.37613070011138916, -0.7721022963523865, -0.3295437693595886, -0.6785493493080139, 4.379509925842285, -0.09238296002149582, 2.41327166557312, -0.6767106056213379, -1.1540251970291138, 0.4134833812713623, -2.092444658279419, -1.6147491931915283, -1.5134130716323853, 0.9900739192962646, 3.0446994304656982, -1.4033160209655762, -3.76552152633667, 1.19313383102417, -1.0639605522155762, -0.3966813087463379, 2.680595636367798, 2.6412360668182373, 0.00044147350126877427, 0.334211140871048, 3.94130802154541, -0.7171252369880676, 1.877704381942749, 1.2582942247390747, -2.878671407699585, -3.0823588371276855, -1.0799205303192139, 1.1180031299591064, -1.2119735479354858, 0.8642697334289551, 0.18654650449752808, -0.39746570587158203, -1.1665385961532593, -0.5228142738342285, 4.479274272918701, 1.0237733125686646, -0.5002723336219788, -5.271012306213379, -1.3236297369003296, 3.539316415786743, 0.47086796164512634, 0.0046529145911335945, -1.8468140363693237, 1.6507240533828735, -1.4895195960998535, -0.04682241752743721, -1.2122266292572021, -2.60341477394104, 2.5048468112945557, 0.20340657234191895, -6.523410320281982, -1.8553860187530518, -0.6702571511268616, 0.41493451595306396, -1.5970005989074707, -2.1993319988250732, -0.09052117168903351, -2.4970076084136963, -3.9905762672424316, 3.4062461853027344, -0.20508882403373718, -3.6840600967407227, 0.9679457545280457, -1.494275689125061, 6.339151382446289, -1.2032016515731812, -2.947746753692627, 0.6705801486968994, 0.3632482588291168, 1.0723899602890015, 2.557884931564331, 0.01828606426715851, -1.1364035606384277, 0.9320597648620605, 0.5774811506271362, -0.41668587923049927, -5.2986321449279785, -2.9528582096099854, -4.595244884490967, -0.6031430959701538, 2.2345330715179443, -0.9129295945167542, -1.6991366147994995, 5.117878437042236, 2.1794559955596924, 3.2461400032043457, -1.2791447639465332, -1.3011634349822998, -0.45047417283058167, -3.1861178874969482, 1.060513973236084, -2.2758126258850098, -1.247720718383789, 2.618751287460327, -0.1442413479089737, 0.8942959308624268, 2.3002498149871826, 2.640617847442627, -0.5846092700958252, 2.806506633758545, -1.1796729564666748, 0.017045073211193085, 1.85660982131958, 0.8315612077713013, 1.554706335067749, -2.0611088275909424, -0.7783931493759155, 1.692509412765503, -2.360459327697754, 2.1460578441619873, 2.747328996658325, 0.17508825659751892, -0.16133062541484833, -1.0927162170410156, -3.7656137943267822, 1.7471387386322021, -2.1676762104034424, -1.5822668075561523, -0.641608476638794, 1.74655282497406, -0.6592075228691101, -1.4940569400787354, -1.2476282119750977, 2.547544002532959, -2.945801019668579, 1.9441295862197876, 1.6015572547912598, -3.443629264831543, 1.7414015531539917, -0.3517003357410431, -2.066746950149536, 0.5351528525352478, 1.5166534185409546, 0.3575696349143982, 1.8015916347503662, 1.3083771467208862, 1.704521656036377, -2.049034357070923, -0.17625316977500916, 0.8289617300033569, -3.19457745552063, 0.21308106184005737, -2.3360140323638916, 3.380431652069092, -0.0793435201048851, -0.46041139960289, -1.4583892822265625, 0.9084411859512329, -2.0569725036621094, -2.02563738822937, -1.533307433128357, 5.405514240264893, -0.6370089650154114, 0.16222243010997772, 0.47630828619003296, 1.7022926807403564, -1.3446115255355835, 4.8266167640686035, 2.8373749256134033, -3.6819820404052734, -2.122915744781494, 1.2742300033569336, -1.2094478607177734, 0.5370039343833923, -1.8498531579971313, 3.382361650466919, -0.3928558826446533, 1.7078639268875122, 0.7447189092636108, 0.992193341255188, -4.136476039886475, -2.5264182090759277, -1.3792006969451904, 2.8684558868408203, 2.1851043701171875, -0.7489188313484192, -1.5643768310546875, -1.363602876663208, -0.8483550548553467, 0.2319989800453186, 0.017299246042966843, 2.43593430519104, -0.5017830729484558, -2.713840961456299, -3.1777689456939697, 0.2191481590270996, -1.6349632740020752, 3.0294268131256104, 1.1378681659698486, 4.067155838012695, -1.285881519317627, 0.6984251141548157, 0.2673306465148926, 1.406337022781372, -4.849837303161621, 0.9262593388557434, 0.5052400827407837, -6.650022506713867, -1.8985339403152466, -1.8729206323623657, 2.6038904190063477, 0.272001713514328, 3.23543119430542, 2.5314204692840576, -0.5698128342628479, 6.28519344329834, -1.0924711227416992, 1.0392816066741943, 2.4438188076019287, 2.4472639560699463, 1.8114513158798218, -0.40472742915153503, 1.1768697500228882, -1.0446324348449707, 1.6278759241104126, 1.126333236694336, 1.7915868759155273, -0.9965022802352905, 3.954277992248535, -2.5360894203186035, 0.929596483707428, -2.5768001079559326, -0.6653246879577637, -1.8777140378952026, 1.6337792873382568, 0.15743635594844818, -0.7372369766235352, -1.2649492025375366, -1.8662846088409424, 0.5877248048782349, 1.751125693321228, -1.3062008619308472, 4.765308856964111, -0.2714061439037323, 0.2367156594991684, 1.6202178001403809, 0.7028431296348572, -0.4857602119445801, 2.122466564178467, -0.2107747346162796, -0.6325892806053162, 2.156342029571533, 0.9007309675216675, 1.2274452447891235, -1.490655541419983, 3.373448133468628, 2.1808741092681885, -2.1587421894073486, -1.0897650718688965, 0.8702822923660278, 4.831782341003418, 1.3317725658416748, -1.6534943580627441, -5.67922830581665, -1.4076108932495117, 2.8206639289855957, -0.48739901185035706, 0.8606261014938354, 0.573147177696228, 1.7892756462097168, 0.8535699248313904, 0.36945614218711853, -0.1641613245010376, 0.47430509328842163, 1.246342420578003, 0.8343855142593384, -1.0499346256256104, 4.564737319946289, 0.5850473642349243, 1.803264856338501, -0.26191794872283936, 1.1546916961669922, -1.7768526077270508, 0.3391120433807373, 1.2124744653701782, 1.5045415163040161, 1.4459391832351685, -2.128955602645874, -0.6321163177490234, 1.7067809104919434, -0.6883402466773987, -1.2902582883834839, -1.6225050687789917, 1.6366673707962036, 1.1951258182525635, 2.3870937824249268, 0.6824309229850769, -0.29468458890914917, -0.31606051325798035, -0.9885303378105164, -0.48640596866607666, 1.6327128410339355, 6.685824871063232, 1.2169698476791382, 3.549346446990967, 0.1364249289035797, -1.4608837366104126, 1.8155710697174072, 2.5778253078460693, 4.8714118003845215, 5.022313594818115, 0.36874428391456604, 1.2252365350723267, -2.41737961769104, 0.4562021493911743, -0.4224875867366791, 1.3664822578430176, 1.1743533611297607, 2.8070695400238037, 3.605522632598877, -1.4180896282196045, -0.02979416400194168, 2.1882338523864746, -0.15066559612751007, 2.5309290885925293, 2.194993734359741, -2.2042529582977295, 1.1432619094848633, 0.9016432762145996, 0.33643093705177307, -0.9899154305458069, 0.39696094393730164, 1.089213490486145, 2.4301810264587402, -0.5593219995498657, 4.67154598236084, 1.0375399589538574, 2.186358690261841, -2.9835619926452637, -0.9554633498191833, -3.4491047859191895, 4.452366828918457, 1.9466279745101929, -1.960595726966858, 3.18691086769104, -0.20836885273456573, 0.334956556558609, -1.2157628536224365, -1.5263538360595703, -0.8288545608520508, -1.1130279302597046, -0.17439664900302887, -1.72689950466156, -1.0558927059173584, 3.912442684173584, 1.8458529710769653, 3.2645676136016846, -0.4223587214946747, 3.6875903606414795, -0.9228212237358093, -3.5297698974609375, -3.0203464031219482, 0.20995326340198517, -0.5896023511886597, -1.7854769229888916, 2.5619430541992188, 6.767190933227539, -0.3179130256175995, 0.5683799982070923, -2.2036547660827637, 8.656651496887207, -2.101308584213257, 1.623032569885254, 27.13319206237793, -1.9024584293365479, 2.9731109142303467, -2.6317410469055176, -4.299915313720703, 2.955291509628296, -3.361175537109375, -1.3212915658950806, 0.03190676495432854, -2.619326591491699, 0.08289580047130585, 0.9817639589309692, -1.138550877571106, -1.7059012651443481, 0.7742635607719421, -0.5184952020645142, -3.3632473945617676, -2.635309934616089, -0.9084259271621704, -0.5363664627075195, -1.0568798780441284, 2.7321393489837646, 0.35869157314300537, -0.6557614803314209, -3.1828112602233887, 1.88175368309021, 1.2260148525238037, 1.8973445892333984, 0.8321769833564758, -0.6412866115570068, -4.5343708992004395, -3.462789535522461, -1.247610330581665, -2.0107409954071045, 1.7869486808776855, -1.1433578729629517, -0.9739375710487366, -0.30335602164268494, 1.1522973775863647, 1.9910036325454712, 0.8634108304977417, -0.8876997828483582, 0.6054847240447998, 1.2209136486053467, 0.1377943456172943, 0.466085821390152, -1.0546281337738037, 0.7066177725791931, -1.5435292720794678, 0.818101704120636, -0.5953543186187744, -1.2457703351974487, -1.8895699977874756, 1.9916250705718994, -1.735976219177246, -3.358867883682251, 1.6228783130645752, -2.974020481109619, -4.532831192016602, -0.8552476167678833, -1.3239970207214355, -1.1341124773025513, 7.304586410522461, 0.5749807953834534, 2.5682809352874756, -1.5637024641036987, -1.6750729084014893, 2.487739086151123, 0.6568500399589539, 1.3405814170837402, 0.42634618282318115, -1.6575124263763428, -0.879315197467804, -3.9382150173187256, 3.0315592288970947, -0.39810386300086975, -0.2811073362827301, 0.5787945985794067, -2.1865899562835693, 3.4307827949523926, -4.75861120223999, 1.1249358654022217, -0.42280471324920654, -1.7053539752960205, -0.9462103247642517, -0.041241541504859924, -0.0676346942782402, -1.7922385931015015, 0.7034958600997925, -0.33913832902908325, -0.7629379630088806, 1.0809060335159302, 1.9899791479110718, -3.010822296142578, -1.0292202234268188, 2.367013454437256, -0.36611929535865784, -0.7399370670318604, -0.0960407480597496, -2.5874507427215576, -0.5998579263687134, -2.836374282836914, -0.9987218976020813, -0.7678020000457764, -1.4202653169631958, -2.0812275409698486, -4.7774338722229, -2.969038963317871, -0.32246214151382446, -0.05411837249994278, 3.6032919883728027, 2.540696620941162, -1.8290103673934937, 0.40290096402168274, -0.7268109321594238, 10.03845500946045, -1.437200903892517, 0.23243258893489838, 1.3803014755249023, 0.47797128558158875, 0.5253244638442993, 1.2647241353988647, 1.355080246925354, 0.038103796541690826, 3.0631041526794434, -2.406519651412964, 1.6775398254394531, -0.21019496023654938, 1.1786032915115356, 1.3454748392105103, 0.09222547709941864, -0.6923094987869263, -2.4168641567230225, -0.19083967804908752, 1.3000247478485107, -2.5725719928741455, -0.6022217869758606, -0.22514982521533966, -1.0688000917434692, -2.3039886951446533, 0.9997882843017578, -2.408311605453491, -1.354596734046936, 1.8904536962509155, -2.4269559383392334, -3.2348134517669678, 2.122058391571045, 2.6954588890075684, -1.7162295579910278, 3.8489160537719727, -3.163163661956787, 0.8816750049591064, 1.306485652923584, -3.506643056869507, -4.2813591957092285, -1.0339808464050293, 1.586117148399353, 2.1474051475524902, 3.3756468296051025, -2.3617405891418457, -1.0403532981872559, -7.917449951171875, -2.557255268096924, 1.85438072681427, -3.933412551879883, 0.11108729988336563, -0.7729803323745728, -2.0033485889434814, 1.967444896697998, -1.9570772647857666, 2.1978225708007812, -1.191283106803894, -0.27868783473968506, -1.1955664157867432, -0.9517354369163513, 1.1154842376708984, 1.2247878313064575, 0.25719037652015686, 1.2311451435089111, 0.21253199875354767, -1.4890598058700562, -1.3522281646728516, -1.007832646369934, 0.42145106196403503, -0.9190065860748291, 2.624530076980591, -0.4465204179286957, 1.0248017311096191, -0.05156153067946434, 1.7013672590255737, -4.500095367431641, 0.773842453956604, 3.0870957374572754, -1.413362979888916, -0.7963045239448547, -0.09312735497951508, -1.4883321523666382, -1.832523226737976, 3.573526620864868, 1.4043564796447754, -2.395376682281494, -0.03090091235935688, 0.9323880672454834, -3.8801558017730713, -1.5525200366973877, 1.0335180759429932, -0.3926086723804474, 3.2666678428649902, -2.010620355606079, -0.8254981637001038, -3.738877534866333, -0.2521810829639435, -1.3982669115066528, 1.959067940711975, -0.5633033514022827, 0.7764256000518799, -1.7171568870544434, 0.5768987536430359, 6.293545722961426, 0.25742605328559875, 0.8974152207374573, 0.48532021045684814, 1.4741075038909912, 3.5766191482543945, -2.871675729751587, -0.2608588933944702, 0.8291109800338745, -0.18413569033145905, 1.7238638401031494, 0.9095208048820496, -2.023057699203491, 2.998403787612915, -3.0710971355438232, -1.007161259651184, -3.023746967315674, -2.7339093685150146, 1.5691683292388916, 1.4676865339279175, -1.029922366142273, -0.7065752744674683, 2.169233798980713, -1.9041492938995361, 0.6009433269500732, -1.3166207075119019, 2.058396816253662, -2.3923630714416504, 1.7532436847686768, 1.8368395566940308, 2.2541894912719727, -0.972436249256134, -2.558885335922241, -3.078460216522217, 2.138939619064331, -0.7566337585449219, 5.035131931304932, 0.23195034265518188, -2.09535813331604, 3.520563840866089, 2.2674689292907715, -0.07443520426750183, -0.6683889031410217, -1.3280479907989502, -0.7310682535171509, 2.138979434967041, -1.453567385673523, -2.6028032302856445, -1.511893391609192, -0.5840591192245483, -1.4460816383361816, 1.1787539720535278, -0.49928611516952515, 0.07513757795095444, -4.542128562927246, 1.1496366262435913, -0.25030407309532166, 1.7102532386779785, -2.458218574523926, -3.470759391784668, 3.4160351753234863, -3.8308024406433105, -3.1194260120391846, -1.6491726636886597, 1.8256422281265259, 1.6715199947357178, -0.12357582151889801, -0.439548134803772, 2.991652488708496, 1.4392422437667847, -8.202903747558594, -1.324163556098938, 2.7171361446380615, -3.9382715225219727, -3.1304328441619873, -0.05252252146601677, 0.048725519329309464, 1.1417139768600464, -0.8462657332420349, 0.8496829271316528, 1.8106651306152344, -1.840693712234497, 1.8140180110931396, -0.2964467406272888, 1.8091861009597778, 2.548039436340332, 3.7532007694244385, 2.3707547187805176, -0.0014851680025458336, -3.133779287338257, -5.712972164154053, -2.074131488800049, 1.926195502281189, 3.1407229900360107, -0.6953112483024597, -2.211824417114258, -1.6327816247940063, 3.6081383228302, 4.945043087005615, 0.3085583448410034, 1.2233728170394897, 3.4852755069732666, 2.0289416313171387, -0.2831162214279175, -1.031826138496399, -1.9001234769821167, -1.2104734182357788, -0.3516353964805603, -1.8022432327270508, -0.04479994252324104, -1.5246460437774658, -3.035149097442627, 2.0338759422302246, -1.5245317220687866, -1.061743140220642, 3.738931179046631, -1.383008599281311, -1.1897321939468384, -4.178178787231445, 1.018120288848877, -2.336942672729492, -1.9001842737197876, 6.419741153717041, -2.7583117485046387, 0.3890707790851593, 0.7440516948699951, -2.319138526916504, 2.534916639328003, 2.462158679962158, 0.31138086318969727, 0.7125667333602905, -0.9838536381721497, -0.10296911746263504, 0.10462744534015656, 3.0397682189941406, 1.0165858268737793, -0.3655574321746826, -2.0365002155303955, -0.28195062279701233, 0.6381194591522217, -2.7837765216827393, -1.1161054372787476, 3.747276782989502, -1.7621662616729736, 0.3389614522457123, 3.081418752670288, -3.331918716430664, -1.5179458856582642, -4.380979537963867, 0.8713297843933105, 0.4844953417778015, 3.8585033416748047, 4.206162929534912, -0.4463770091533661, 1.7435334920883179, -1.954436182975769, -0.4848804771900177, 0.8071377873420715, 1.2044332027435303, -6.288872241973877, -0.892845094203949, -2.6638681888580322, -0.5764800906181335, 3.7384917736053467, 5.835002899169922, 4.151047706604004, -0.2711348235607147, -1.2239048480987549, 2.412997245788574, 2.1840925216674805, -2.7346138954162598, 0.17441371083259583, -1.4620786905288696, 3.931643009185791, -2.830150842666626, -4.026139259338379, 2.5566442012786865, -0.5181986689567566, -3.8484926223754883, 4.2135491371154785, -1.3598458766937256, -0.27633726596832275, 1.1512730121612549, 0.7932575941085815, -2.9772255420684814, 1.7888942956924438, 1.3608006238937378, -0.524155855178833, 0.37345582246780396, 1.3386629819869995, 0.6776185035705566, 2.8550221920013428, -0.330299437046051, -3.1940228939056396, -0.4400700032711029, -0.01892869360744953, -3.3374955654144287, 0.23257268965244293, -2.3153858184814453, -1.0381765365600586, 0.7900171875953674, -3.761812686920166, -0.03246269375085831, 2.3940858840942383, -5.641329765319824, -3.175548553466797, 5.180517196655273, 0.755230188369751, -2.1258363723754883, -0.8781295418739319, 5.581965446472168, 0.8997911214828491, 0.832715630531311, 2.575038194656372, 1.5453345775604248, 0.3515298366546631, -0.889142632484436, 0.6895421743392944, 2.508230209350586, 1.3120893239974976, -1.0415189266204834, 1.2911458015441895, 0.04047223925590515, 1.0369524955749512, -1.287316918373108, -2.666666269302368, -0.38899683952331543, -4.064665794372559, -0.07248151302337646, 0.6265063881874084, 5.328475475311279, 1.619361162185669, -3.9454362392425537, -1.290826439857483, 1.7045810222625732, -0.7420099377632141, -0.7278963923454285, 0.2690095007419586, 0.7739318609237671, 0.27360767126083374, 1.6181584596633911, -1.8669636249542236, 6.954492092132568, 0.024121956899762154, -2.501385450363159, -0.14354650676250458, 1.9271444082260132, -2.7191359996795654, 2.6670782566070557, 1.1662622690200806, 2.7332613468170166, -2.2649950981140137, -0.0015687406994402409, 0.15404394268989563, 0.7020838260650635, 1.7499383687973022, -2.0472240447998047, -1.7609111070632935, -1.2311644554138184, -0.6472728252410889, -5.920241832733154, 1.789252758026123, -1.8672744035720825, 0.9718586206436157, 3.338839530944824, 0.8255043029785156, 2.6848361492156982, -2.977419853210449, -1.5117603540420532, -2.513235330581665, -1.0438051223754883, 1.0422158241271973, 3.4114885330200195, 2.4946398735046387, 3.549471616744995, -1.580866813659668, 1.5856878757476807, -2.423337459564209, -0.6011481881141663, 0.11385107040405273, -0.5766857266426086, 0.18557444214820862, 1.351786732673645, -5.407820701599121, 6.718194484710693, -0.45283329486846924, 4.0855937004089355, 3.179948091506958, -2.5758702754974365, -1.2100826501846313, -1.8005400896072388, -2.7864623069763184, 1.929802417755127, 0.5353168845176697, -3.8121917247772217, 0.8920891284942627, -0.23566114902496338, -1.2087475061416626, -0.5065270066261292, -0.9739001989364624, -2.4419848918914795, -0.626638650894165, -2.3113911151885986, 0.06069121137261391, 3.8082199096679688, 1.9912463426589966, 2.8882861137390137, -0.5425316095352173, -0.5502876043319702, -0.19236847758293152, -1.5598018169403076, 3.2786834239959717, -0.2057923972606659, -6.057995796203613, -3.9937644004821777, -4.005063056945801, 0.7128811478614807, -0.29917287826538086, -3.4070425033569336, -3.08304500579834, 1.8505592346191406, 0.8939576745033264, 3.607509136199951, -0.4913320541381836, -3.904911756515503, -1.2262794971466064, -0.39639320969581604, 3.436142683029175, -0.5810370445251465, -1.2167694568634033, 1.195696473121643, 4.246860980987549, 5.501698970794678, 0.40286871790885925, -1.665034532546997, -2.0379371643066406, 2.0544474124908447, -0.7506222128868103, -1.6380164623260498, 0.12234186381101608, 0.7343149781227112, 3.2667641639709473, -0.013749778270721436, 0.045756272971630096, 2.0259225368499756, -0.13169793784618378, -0.6401490569114685, -3.320904016494751, -3.2961368560791016, 1.5321279764175415, 0.9557194709777832, -1.2976186275482178, 2.7983145713806152, 1.6986899375915527, -0.2517993450164795, -2.7023441791534424, 0.015173474326729774, -0.10177040100097656, 1.088951826095581, -1.6926347017288208, 0.31938788294792175, -0.14162223041057587, 3.717923641204834, 1.8186628818511963, -0.9072098135948181, -2.594341516494751, -0.18981441855430603, -1.854526400566101, -0.20381678640842438, -1.5395867824554443, -2.277090072631836, 0.6901495456695557, -0.7040827870368958, 1.9030753374099731, 1.7905023097991943, -1.6213206052780151, -1.681071400642395, 0.23267237842082977, -2.4780893325805664, -0.15034285187721252, 2.858236312866211, 0.9597956538200378, -0.056338656693696976, -3.3747456073760986, 2.603794574737549, 4.913315296173096, 1.0349900722503662, 0.501873791217804, -1.7481708526611328, -3.835484266281128, -1.6295937299728394, 1.8110668659210205, 0.02692463994026184, 1.60771644115448, -5.23627233505249, -4.112908363342285, -1.1681420803070068, -1.175584077835083, 0.7025303840637207, -0.9529606699943542, -2.52236008644104, 3.535568952560425, -2.6467840671539307, 0.8899651169776917, 0.3060604929924011, -1.0779430866241455, 1.082581877708435, 2.469815969467163, 3.042269229888916, 3.122230052947998, 1.7827889919281006, 2.480593681335449, 0.5778017640113831, 0.0034850439988076687, 2.4612700939178467, -0.4815952181816101, -0.8910554051399231, -0.6177747845649719, 3.0626344680786133, 0.6609451174736023, 1.1542261838912964, -2.6189544200897217, -1.9185086488723755, -1.188662052154541, -3.8666927814483643, 0.868789553642273, 2.8241958618164062, 0.717522382736206, -0.880529522895813, -2.176969051361084, -1.0535606145858765, 0.447030633687973, 3.0844078063964844, 3.452298402786255, -0.6537250280380249, -2.079322338104248, -2.610548496246338, -0.4108234643936157, -3.0719153881073, 2.063753604888916, 1.360932469367981, 0.22088399529457092, 1.3590534925460815, -1.718250036239624, -0.41565200686454773, -0.261073499917984, 2.012110948562622, -2.042478561401367, 0.06418006122112274, -4.877275466918945, 2.5728342533111572, 0.27725663781166077, -0.3507033586502075, 1.0649726390838623, 0.5421806573867798, 2.062239646911621, -1.2882829904556274, -4.387228488922119, -1.6266839504241943, -3.56027889251709, 2.7105581760406494, -1.3347176313400269, -2.3790876865386963, 1.9379856586456299, 3.3919284343719482, -0.7707788944244385, 1.6670420169830322, 2.633674144744873, 2.0585360527038574, -1.3157143592834473, 0.5402118563652039, 4.095817565917969, 2.755581855773926, 0.6409933567047119, -0.45840832591056824, 3.0735602378845215, 0.39176270365715027, -2.2832515239715576, -0.3604249358177185, 1.4775283336639404, -0.9196430444717407, -0.29276910424232483, 0.7021023035049438, 0.5772650241851807, -0.42350277304649353, -0.7505240440368652, 6.488830089569092, -0.43638572096824646, -1.0967001914978027, -2.9540629386901855, 1.6379598379135132, -0.3911667764186859, -3.8249833583831787, 3.648195743560791, 3.202974557876587, -1.8951458930969238, 2.0686609745025635, 0.1490081250667572, -1.737811803817749, 0.033723507076501846, 0.3694133162498474, -2.8861756324768066, 0.5664680004119873, -1.9717832803726196, -3.3447701930999756, 2.774479627609253, -1.5577921867370605, -1.1225050687789917, -0.43887490034103394, -2.3315491676330566, 0.4157755374908447, 2.4283978939056396, 5.293919086456299, -6.4982686042785645, 2.0191142559051514, 2.094411611557007, -0.8833675384521484, 0.6527138948440552, 1.5727512836456299, -2.038292646408081, 1.788594126701355, 0.7927849292755127, -2.5286049842834473, 0.3193402886390686, -2.9443910121917725, -1.1918878555297852, 5.63569974899292, 0.4235156178474426, -2.565901517868042, 2.6823456287384033, 0.8150875568389893, -1.906888723373413, 0.35872969031333923, -0.9419792890548706, -1.289422631263733, 1.5496406555175781, -0.3684121370315552, -1.923248529434204, -0.3160295784473419, 3.677762269973755, -1.4284363985061646, -2.03214693069458, 0.1833006739616394, 3.9163734912872314, 2.774688482284546, -0.06245376914739609, 2.5912914276123047, 0.3216893970966339, 0.5988276600837708, 1.5713248252868652, -3.9695653915405273, 0.049558382481336594, 1.0616995096206665, 3.36112642288208, 0.03578341007232666, 2.21447491645813, -4.538008689880371, -1.2241649627685547, -0.4683260917663574, 1.8316762447357178, -2.3227643966674805, -0.6561751365661621, -1.2344104051589966, 4.403237819671631, 0.9010098576545715, -2.5723884105682373, -4.126605033874512, -1.5759526491165161, 1.6800189018249512, -2.798414707183838, -2.529618978500366, 0.7397733330726624, 5.370870590209961, -1.2857167720794678, 1.1514207124710083, -3.4051597118377686, 1.6074426174163818, -0.024210136383771896, -1.265425443649292, -1.433730125427246, 0.02931944653391838, -5.155543804168701, -0.270860493183136, -3.9890594482421875, -2.7798209190368652, -0.04470686987042427, 4.2526445388793945, 1.912062644958496, 2.7970805168151855, 0.36493444442749023, -4.572173595428467, -4.065340042114258, 1.7369540929794312, -1.6970735788345337, -3.5398643016815186, 3.2890028953552246, -0.8544662594795227, -1.92164945602417, 0.40082454681396484, -0.5975649356842041, -3.5460543632507324, -0.2573607563972473, 2.100776433944702, 2.644059896469116, 3.2487733364105225, -4.063974380493164, -0.3557226061820984, 3.676525592803955, 5.033857345581055, -2.319777488708496, 1.809368371963501, 1.641114592552185, -0.5428099632263184, -8.797240257263184, -0.6945399641990662, -0.4721713066101074, 1.6430584192276, -1.5551620721817017, -0.9170002341270447, -2.0315022468566895, -2.6191294193267822, 3.539374589920044, -3.4483327865600586, 3.4046528339385986, 1.1253823041915894, 0.33704549074172974, 5.3381195068359375, 3.7114272117614746, 1.5599970817565918, -0.5215655565261841, 1.7638063430786133, 0.9109665751457214, -0.5570711493492126, 0.7341312766075134, 2.1333260536193848, -2.3957788944244385, 2.1832852363586426, -4.675780296325684, 0.7751143574714661, 2.6862292289733887, -1.3886650800704956, 0.4368762969970703, 0.5106750130653381, -0.6496327519416809, -2.14858341217041, 1.42571222782135, -0.9790229201316833, -2.979475975036621, 1.0102583169937134, -1.0788902044296265, -2.0549631118774414, 1.7226654291152954, -0.3280545473098755, -1.4498790502548218, 1.023625135421753, 1.9552923440933228, -0.04177286475896835, 1.6432304382324219, 1.156595230102539, 4.563358306884766, -1.9355756044387817, 2.102123498916626, -0.1785711944103241, 6.813966751098633, 0.20799881219863892, 5.638758659362793, -1.7511098384857178, -3.713031768798828, -0.6878811717033386, 3.0603668689727783, -1.9911024570465088, -2.443859815597534, 0.42780235409736633, -3.1567137241363525, 0.5919780135154724, -1.670413613319397, -4.625943660736084, -0.7798305749893188, 0.8048914074897766, 5.242583274841309, 0.9769518375396729, -0.24185869097709656, 2.957548141479492, 4.316461563110352, 2.266818046569824, 3.5768117904663086, -0.39489278197288513, -1.4420703649520874, -1.2321140766143799, -0.39998164772987366, 2.630230188369751, 0.5204104781150818, -1.2265465259552002, 0.30054771900177, 2.2542364597320557, 1.2837249040603638, -0.9453749060630798, 1.7401243448257446, -2.451488494873047, 3.9248573780059814, -1.2233179807662964, -2.3796186447143555, -0.9936602711677551, 0.7373843193054199, -4.057260036468506, 0.6220123171806335, -0.15085597336292267, 0.45568862557411194, 0.6881980895996094, 0.9386627078056335, -3.0484628677368164, -1.3948297500610352, 3.1690969467163086, 1.061684489250183, 1.2086237668991089, 3.141063928604126, -3.1885225772857666, -0.5560810565948486, 0.8292754888534546, -1.6699550151824951, -1.3478857278823853, 1.3670132160186768, -0.46518567204475403, -4.589211940765381, 2.7780497074127197, 3.1484460830688477, -2.601912021636963, -1.535046100616455, -2.327179193496704, -0.4768379032611847, 1.879498839378357, -4.65198278427124, -1.8963536024093628, 0.1229492649435997, 0.2512691020965576, 3.2713921070098877, -2.112842321395874, -0.5391234159469604, -1.6489015817642212, 1.7935547828674316, 0.6001226902008057, -0.20226597785949707, 1.459883451461792, -0.41113007068634033, -2.831852912902832, 0.4963761270046234, 1.5177264213562012, 1.1533101797103882, 1.9354093074798584, 4.8752570152282715, 0.22109100222587585, -1.4072656631469727, -1.7764445543289185, -0.2937462031841278, 3.089569091796875, -3.2892343997955322, 0.004390854388475418, -3.5752837657928467, -0.08121917396783829, 2.2302613258361816, 0.656353771686554, 2.8920183181762695, 2.6107969284057617, -2.7235934734344482, 0.6498220562934875, 4.602133274078369, -1.6052037477493286, -1.1216539144515991, -3.180720329284668, 1.3578392267227173, -0.1448904126882553, 1.2370799779891968, -0.967828094959259, 0.5941291451454163, -2.9654693603515625, 0.364879846572876, 1.9366474151611328, -2.058755397796631, 1.418099045753479, 2.3712520599365234, 0.42336541414260864, -3.6474690437316895, 0.01951734349131584, 0.7992434501647949, -3.089144706726074, -2.9028117656707764, 0.8574556112289429, -0.04231464862823486, 0.7820256948471069, 0.721244215965271, 1.2322226762771606, 0.6671203374862671, -4.155913829803467, 0.8115298748016357, -1.6613303422927856, 0.5726802945137024, 0.18262742459774017, -2.4007930755615234, -2.6270127296447754, -3.9199657440185547, 0.8227632641792297, 4.202642440795898, -2.7809383869171143, -0.5128242373466492, -0.9670093059539795, 3.922163724899292, 1.6814647912979126, 0.18487271666526794, -0.6268649697303772, 1.962677001953125, -0.7313269972801208, -1.3472169637680054, -0.18814866244792938, 1.4121270179748535, -1.2790035009384155, 0.12222219258546829, 0.018881164491176605, -0.2754385471343994, 1.6033968925476074, 0.943248987197876, 0.9521746635437012, 1.8475252389907837, 1.020877480506897, -2.7545032501220703, -0.811863124370575, -2.9219706058502197, -0.632301926612854, -3.417795181274414, -2.0094077587127686, -5.283041954040527, -2.292614698410034, 1.1710065603256226, 0.8799039125442505, -5.0270209312438965, 3.444159984588623, -0.7008549571037292, -1.777267336845398, 1.7245129346847534, 1.75071120262146, 3.042494297027588, 1.2918527126312256, -2.007596969604492, 2.6193647384643555, 4.617025852203369, -1.5729635953903198, -1.4839906692504883, 1.9711699485778809, -1.4547252655029297, -0.6205402612686157, 0.7292991280555725, 2.14542293548584, -1.8656247854232788, 1.544662356376648, -0.16857589781284332, 0.09666230529546738, 1.5110894441604614, -4.4748334884643555, -0.717214047908783, 1.3918720483779907, 4.865427017211914, 0.5485165119171143, -2.1849682331085205, -0.9233919978141785, 0.6702060103416443, -1.077500820159912, -0.4074903726577759, 0.10794653743505478, -1.160241961479187, 2.0266969203948975, -3.4881229400634766, 0.15855835378170013, 0.6469943523406982, -0.30974724888801575, -2.314297914505005, -2.146245241165161, 3.4643020629882812, -0.522951066493988, -1.1004031896591187, -0.15067829191684723, 1.040342092514038, -0.49589967727661133, -1.8752716779708862, 0.941264271736145, 2.0792462825775146, 0.1035633310675621, 2.719987630844116, -0.7860562205314636, 1.5412157773971558, 2.8780341148376465, -4.2352423667907715, 2.9283387660980225, -1.2845083475112915, 0.3045805096626282, -1.8422099351882935, -2.8844528198242188, 1.9994680881500244, -9.795245170593262, 1.6341201066970825, -1.2938116788864136, 2.1772313117980957, -1.2158523797988892, -1.369340419769287, 2.572152853012085, 3.7684240341186523, -3.589184284210205, 0.02446862682700157, -0.760172963142395, -1.005238652229309, -0.4746130108833313, -0.5631649494171143, -1.6112929582595825, 1.089213252067566, -1.2008779048919678, 1.4990150928497314, 2.3650362491607666, -0.265105664730072, -2.252371072769165, 0.12770624458789825, 1.6545870304107666, 1.3672232627868652, 0.9187647700309753, 0.5484951138496399, -2.1212549209594727, -2.2028045654296875, -0.04210823401808739, -2.3658699989318848, -1.8174386024475098, -3.565169095993042, 3.822784423828125, -1.8788775205612183, -2.602207899093628, 0.8676267266273499, -3.6343655586242676, -5.718454837799072, -2.8625266551971436, 2.7618937492370605, 0.9571577310562134, 0.06927693635225296, -2.2222394943237305, 1.8188393115997314, -3.1637518405914307, 0.09750139713287354, -0.4139901399612427, -1.3021546602249146, -0.6697893142700195, -1.4720919132232666, 2.3239920139312744, -0.1324598789215088, 0.5661770105361938, -2.123100519180298, 2.587172508239746, 0.5497084259986877, 3.855456590652466, -0.8295949101448059, -4.104057788848877, -1.02494478225708, 1.9035803079605103, -2.6467418670654297, 10.12550163269043, 2.2096824645996094, -0.35698655247688293, -0.6880521178245544, -1.063774824142456, 0.39883583784103394, -3.4147913455963135, -1.0552140474319458, 1.3456408977508545, -3.0836985111236572, 2.705695867538452, 1.185306429862976, -0.9961390495300293, 1.952655553817749, -2.951557159423828, 0.8230221271514893, -0.8186396956443787, 1.880246877670288, -3.8993849754333496, 2.1284425258636475, 2.1010894775390625, 2.3344662189483643, -1.5272432565689087, -1.5192471742630005, -1.920576572418213, 4.630850315093994, 1.5918596982955933, 0.24402602016925812, 1.0742331743240356, 2.684629201889038, -1.334130048751831, 2.90714168548584, 1.1091899871826172, -0.76155024766922, 1.9219499826431274, -0.7199900150299072, 0.24350138008594513, -0.426250696182251, -2.585860252380371, -2.990601062774658, -2.437469244003296, -1.5984492301940918, 1.5036252737045288, -5.75636100769043, -2.0379481315612793, -1.068037509918213, -0.9687396287918091, 0.856726348400116, -8.89590072631836, -1.8474656343460083, -0.5204185843467712, -0.8281758427619934, 0.42828768491744995, 2.6856842041015625, -2.233410358428955, -0.317163348197937, 4.381340026855469, -2.2374095916748047, -1.2244293689727783, -3.071791648864746, 1.024125576019287, 0.10076381266117096, -1.7288966178894043, -2.2165491580963135, -0.18061931431293488, -1.671079158782959, 0.867552638053894, -1.403209924697876, -1.1058642864227295, -0.19693367183208466, -0.3430301547050476, -0.9183951616287231, -7.773083686828613, -5.102391719818115, 2.043105363845825, 0.8530747294425964, 0.02588234841823578, 1.3086538314819336, 0.5689809918403625, -0.4447615146636963, -2.172276020050049, 2.0644662380218506, 0.11348308622837067, -1.1057000160217285, -1.3848057985305786, 0.09660343825817108, 0.6312641501426697, -0.9818785786628723, 0.6856541633605957, -2.841557502746582, -2.3953142166137695, -0.4538808763027191, 2.3126413822174072, 0.9462139010429382, -0.8501228094100952, 0.7148445844650269, -2.06673264503479, 2.496629476547241, 0.7800368666648865, -1.6923707723617554, -6.167377948760986, 0.601852297782898, 3.242518901824951, -1.5184935331344604, -0.544063925743103, -2.2014636993408203, -1.5185329914093018, -2.9417519569396973, 0.44018852710723877, -2.3799021244049072, 2.4479005336761475, 1.7020047903060913, -0.9061781167984009, 2.0636801719665527, -3.5833442211151123, -2.043351173400879, 1.997549057006836, 1.0126926898956299, 1.9929062128067017, 1.7831580638885498, -1.4904180765151978, 2.130187749862671, 1.1977150440216064, -3.8728246688842773, 0.1247590035200119, 4.352045059204102, -1.9139851331710815, 4.6603779792785645, 6.581774711608887, 1.9012356996536255, -1.2649714946746826, -1.1018874645233154, -2.9326813220977783, -1.8744912147521973, 3.668379545211792, 0.42029571533203125, 1.3818851709365845, 1.1362571716308594, -3.0106797218322754, -3.97479510307312, 1.3266217708587646, 0.375847190618515, -1.8894705772399902, -3.2992730140686035, -1.8149373531341553, 0.8973882794380188, -3.349294424057007, 2.2487802505493164, 1.595730185508728, -0.4281609356403351, 3.350707530975342, 2.6812679767608643, -1.4412710666656494, 3.5351474285125732, 0.9176473021507263, 0.12314976006746292, -5.568358898162842, -1.034401297569275, -0.012831445783376694, 2.233128547668457, 3.263709306716919, 0.4785178005695343, -2.7117385864257812, 1.3218990564346313, -1.164642333984375, -2.1217849254608154, -1.6542130708694458, -0.11932750046253204, 0.3812049627304077, 1.6907662153244019, -0.5887786746025085, 4.095684051513672, 2.4112157821655273, 2.705240488052368, -0.9000331163406372, -1.800716519355774, 1.4224262237548828, -2.939528703689575, 0.3874969780445099, 0.2226201593875885, -1.099953055381775, -1.3337632417678833, -0.9740326404571533, 0.8555927872657776, -0.6768799424171448, 2.984463691711426, -5.024965763092041, -1.905869483947754, 0.47080013155937195, -3.339038372039795, -1.5457130670547485, 3.3331634998321533, 0.20893362164497375, -1.7876580953598022, 0.6210262775421143, 1.4084125757217407, -0.6540855169296265, 0.16933681070804596, 0.662682056427002, 1.0670992136001587, 4.288615703582764, -4.082826614379883, 0.008683010935783386, 0.3402095437049866, -0.0955742746591568, -1.7966251373291016, 4.204949378967285, 0.393296480178833, 4.221598148345947, -1.436022400856018, 1.3919068574905396, 0.48992598056793213, -3.0465667247772217, 2.9545702934265137, -2.4134347438812256, 3.9532785415649414, -0.19605210423469543, -2.594115734100342, -2.7056384086608887, 1.9792704582214355, 3.2630088329315186, 3.2305984497070312, 0.4476120173931122, -0.8908994793891907, 0.3973217010498047, -3.00736927986145, -0.24350431561470032, 0.20884622633457184, -2.4975550174713135, -0.5993445515632629, 0.43056720495224, -3.11100435256958, 2.701956272125244, -4.692995071411133, 3.1868159770965576, 1.9285293817520142, 1.8921902179718018, -1.9990565776824951, 0.09558505564928055, -1.9431980848312378, -3.1678550243377686, 0.6076815128326416, 0.08260820060968399, -3.5557563304901123, 1.362030267715454, 0.244123175740242, 0.49511072039604187, -0.6627892255783081, -0.896992564201355, -3.3686249256134033, 0.5069185495376587, 1.586859941482544, 0.10854694992303848, -0.4067099392414093, 1.0769104957580566, -1.4363431930541992, 0.5912642478942871, 2.7176475524902344, -0.19424735009670258, -5.526562213897705, -1.1158506870269775, -0.09116862714290619, 2.7588062286376953, 0.48308902978897095, 0.7341114282608032, 1.6453404426574707, 1.1014684438705444, 4.800105094909668, 2.437413454055786, 2.443296194076538, -4.084654331207275, -2.0383832454681396, -0.45333635807037354, 0.2541109621524811, 3.439568042755127, -2.995147466659546, 1.4494233131408691, 1.603846549987793, 4.448974132537842, 0.855258584022522, -0.4613568186759949, -4.857972145080566, 2.6770029067993164, -0.2852787971496582, 2.271329402923584, 1.0466573238372803, 0.5886598229408264, 3.533402919769287, -1.1869735717773438, 0.9025257229804993, 3.1882760524749756, -1.7905946969985962, -0.3105145990848541, -0.30744194984436035, -0.39361464977264404, -5.355659484863281, -2.3637571334838867, 2.608325481414795, 0.8642834424972534, -4.4452433586120605, -2.348137378692627, -1.2375210523605347, 2.401216983795166, -3.324162483215332, 0.7221556901931763, 0.16438384354114532, -0.5489549040794373, 2.3438806533813477, -0.027291489765048027, 1.958661437034607, -4.424560070037842, 1.9007799625396729, 1.26318359375, -1.6208065748214722, 0.22379496693611145, 1.7910948991775513, -0.5891536474227905, -0.054276224225759506, 0.6743398904800415, 2.01509428024292, -0.12672634422779083, 0.27885982394218445, 3.9914650917053223, 1.6663310527801514, -2.470170259475708, 1.1732022762298584, 2.514371395111084, -0.5392422676086426, -0.8999428153038025, 1.5469684600830078, 0.18270546197891235, -3.6700642108917236, 1.1736924648284912, -0.21322040259838104, -1.497708797454834, 1.5151251554489136, -0.24673199653625488, -3.6102991104125977, 0.8441378474235535, -4.887331008911133, 0.7183734178543091, -0.11375026404857635, 0.5834439992904663, 0.8670225143432617, -3.31946063041687, -1.879645824432373, 0.6520743370056152, 0.554176390171051, -2.1747241020202637, 3.8920350074768066, 2.7770349979400635, 0.0926414355635643, 2.4143738746643066, 1.3474700450897217, -0.6595544815063477, 0.9041053652763367, 2.8652830123901367, -3.074078321456909, 0.289485901594162, 0.4746708273887634, -2.196823835372925, -3.6992950439453125, -0.2875986695289612, -0.3100988566875458, -1.980879545211792, 1.8633822202682495, -0.1268356293439865, 0.5038049817085266, 1.4893016815185547, 3.9869158267974854, -2.1506218910217285, 0.6992855668067932, 0.4052707254886627, -1.0268967151641846, -0.7033075094223022, 1.2041951417922974, -1.782623052597046, 0.9119023680686951, 4.908105373382568, -3.603999137878418, -3.855315685272217, -2.844458818435669, 2.5228092670440674, -0.6906208992004395, 3.2908577919006348, -1.241670846939087, -1.2327642440795898, -0.9744479656219482, 0.2836455702781677, -5.502419948577881, 1.536998987197876, 2.520662546157837, -2.562429904937744, -0.8432838916778564, 3.2281410694122314, -0.3239799737930298, 1.001619577407837, -0.4125818908214569, -1.8389772176742554, 7.1613640785217285, -0.7079322934150696, -4.528888702392578, 2.3097705841064453, -2.453706979751587, 8.58184814453125, 3.2182416915893555, 1.2463421821594238, -1.7716466188430786, -1.8098567724227905, 1.6666492223739624, 0.21950693428516388, -0.35699474811553955, 1.6945081949234009, 1.29301118850708, -2.8179285526275635, -3.3882579803466797, 0.653403639793396, -3.472588539123535, -1.8775585889816284, -0.4877811074256897, 0.6577750444412231, -0.4345914423465729, -1.545411467552185, -2.345364570617676, 0.2761414647102356, 3.0116469860076904, 0.28254184126853943, -0.4295928180217743, 0.1613263338804245, -0.09529618173837662, 0.6109929084777832, -2.176595449447632, -2.4249401092529297, -0.5209002494812012, 0.426259845495224, -1.6183661222457886, -3.8548343181610107, 1.5648539066314697, 2.78985595703125, -3.163389205932617, -2.579416036605835, -1.8670289516448975, 1.9885131120681763, -1.4445627927780151, 0.49691659212112427, -2.4977028369903564, 0.31293123960494995, 2.52664852142334, -2.5890052318573, -0.9269318580627441, 1.115993857383728, 0.4894680678844452, -1.576560378074646, -3.8958687782287598, -2.146223545074463, -3.3561744689941406, 5.294071197509766, -0.09868236631155014, 1.9519119262695312, 3.2649638652801514, 2.2754759788513184, -0.11448676884174347, -2.111964225769043, -0.4616737365722656, -0.36105990409851074, 2.646422863006592, -0.014282570220530033, 1.7701854705810547, -2.1114985942840576, 2.551173686981201, 0.7513378262519836, -3.161115884780884, -1.5453022718429565, 4.753317356109619, 3.410311222076416, -2.0210161209106445, -0.8992056250572205, 0.7479113340377808, -2.2909910678863525, -2.145566701889038, -3.9266433715820312, 3.2966952323913574, 2.111405372619629, 0.04745130240917206, 0.19766481220722198, -1.0476032495498657, 0.07997928559780121, -0.724154531955719, -2.5687360763549805, -2.6739659309387207, 2.0801825523376465, -0.7165095806121826, -0.2132355272769928, -1.705143928527832, 1.8753900527954102, -2.9501571655273438, 1.4441829919815063, -0.7481312155723572, 0.2684038579463959, -2.073326587677002, -1.2046535015106201, 1.658292531967163, -2.011826753616333, -2.8481249809265137, 1.2443854808807373, -0.3989366888999939, -2.0263326168060303, 4.655645370483398, 0.013035820797085762, -3.641803741455078, -0.21891632676124573, -1.189164638519287, 0.30166932940483093, -1.9859813451766968, -2.1244876384735107, 0.3672298192977905, 0.15917396545410156, -1.6992993354797363, 2.913487195968628, -2.8326239585876465, -0.2181558609008789, -2.27754282951355, 0.7249107360839844, 0.577740490436554, 0.9856097102165222, 4.224792957305908, 2.2923569679260254, -2.0394814014434814, 3.4781253337860107, -0.8543155193328857, 1.4037961959838867, -3.6948373317718506, -0.6803023815155029, 0.6620792746543884, 0.8283873796463013, -1.6233723163604736, -2.5232605934143066, 0.08779484778642654, 0.39949262142181396, -0.33759161829948425, -1.204587459564209, -1.9507055282592773, -0.17846138775348663, -2.069622039794922, 0.7880240678787231, -0.15918612480163574, -0.2786983251571655, 1.8862698078155518, -0.683815598487854, 0.019142622128129005, 2.8864290714263916, -2.0457918643951416, 5.050365447998047, 0.6327844262123108, 4.095168590545654, -3.0700316429138184, 0.23402173817157745, 1.0579032897949219, -0.18828780949115753, -1.0676472187042236, -3.8249449729919434, -0.21433430910110474, 2.277669906616211, -0.034363050013780594, -0.6756559014320374, 1.7808860540390015, -0.140194833278656, 0.19439801573753357, 2.221721649169922, 1.0635435581207275, 3.882920503616333, -1.7433253526687622, 6.186529159545898, -4.924704074859619, 1.2929526567459106, -3.4310519695281982, -0.42582276463508606, 2.704442262649536, 0.9464468359947205, 0.6712438464164734, -0.5818907618522644, 1.769269347190857, 0.823415219783783, -0.9980409145355225, 1.5046908855438232, 1.594286322593689, 1.7017806768417358, -8.824735641479492, -1.0353047847747803, -0.5086030960083008, 3.8302204608917236, 0.013052747584879398, 2.9061574935913086, 0.455456018447876, 2.733821392059326, -0.7407239675521851, 1.1964552402496338, 1.8813292980194092, 0.04818382114171982, 1.3686810731887817, 2.113206148147583, -4.686483383178711, 2.1314446926116943, 3.89916729927063, 1.718428611755371, 0.26714062690734863, -3.614598274230957, -0.5271925330162048, 0.3079439103603363, 0.6858731508255005, 2.888460874557495, 0.7189399003982544, 0.08787604421377182, -0.8122798204421997, 2.065134048461914, 2.9058313369750977, 2.2137815952301025, -1.8541481494903564, 2.590888023376465, -0.25514665246009827, 1.2357510328292847, 2.537386178970337, 1.6587862968444824, 0.2832278609275818, -5.820736885070801, 1.3341835737228394, 2.903965473175049, 1.746750831604004, 0.7805835604667664, -0.5855956673622131, -0.6335760951042175, 1.7775628566741943, -1.1772165298461914, -0.6123815774917603, 0.2639782726764679, 1.2979141473770142, -0.20664852857589722, -0.46598395705223083, 1.350919246673584, -1.9380896091461182, 2.7976784706115723, 2.2621572017669678, -3.8981223106384277, -0.7360373735427856, -3.355375051498413, -0.8456891775131226, 1.7843552827835083, 1.2147830724716187, 1.9822973012924194, -0.13863591849803925, 1.053917646408081, 0.5410677194595337, 0.8710563778877258, 0.5168390274047852, -1.9129939079284668, 0.4224748909473419, 3.4553239345550537, -0.44418758153915405, 1.0550408363342285, 0.9868781566619873, 1.8233006000518799, 2.425344228744507, -1.4075204133987427, 0.5152188539505005, -1.2102994918823242, -1.3021953105926514, 0.07120895385742188, 0.05409613624215126, -1.4784634113311768, -0.8272404074668884, 1.200835108757019, 1.3665724992752075, 0.9981685280799866, 2.9151346683502197, 2.6921422481536865, -0.5508227348327637, 0.32099369168281555, -2.7400741577148438, 0.21877525746822357, 1.7189617156982422, 0.5065849423408508, -0.5846894383430481, 3.9174888134002686, -1.3859553337097168, -0.41792699694633484, -2.147712469100952, 1.1015201807022095, 2.3297207355499268, -2.407167434692383, -4.464907646179199, -0.38696199655532837, -1.888370156288147, 4.342437267303467, -1.257830023765564, -1.051867127418518, -0.04411783069372177, -1.354113221168518, -3.4020473957061768, -0.9999217987060547, 0.7443543672561646, -0.7181819081306458, 0.8268350958824158, -2.522101640701294, 1.0725051164627075, 0.8840409517288208, -0.31831490993499756, 2.485842704772949, -1.661466360092163, -0.7681854963302612, 1.854724645614624, -4.536762714385986, -2.037344217300415, -4.566812515258789, -2.834425210952759, 1.375301480293274, -1.9485336542129517, -2.2246148586273193, -1.9864380359649658, 3.3919105529785156, 1.7843698263168335, 1.2069449424743652, 5.555095672607422, 2.4935054779052734, 0.6479120850563049, -4.7599921226501465, 1.2277499437332153, 1.825424313545227, 0.8263697624206543, 0.8767146468162537, 1.55247163772583, -3.6062896251678467, -5.219585418701172, -3.5206408500671387, 2.6424520015716553, 1.0825227499008179, 1.195300817489624, -1.356526255607605, 2.730605363845825, -1.3406702280044556, 1.1641244888305664, -1.6922441720962524, 4.077073097229004, -3.0622072219848633, 0.46306493878364563, -4.23371696472168, -2.1452622413635254, 1.728650450706482, 2.821173667907715, 3.712109327316284, 1.632142424583435, 1.6324000358581543, -0.9283297061920166, -0.1342800408601761, -0.148838609457016, 2.1863205432891846, -0.5559530258178711, -4.337446212768555, -3.1452484130859375, 1.7065818309783936, 4.060230255126953, 0.40127384662628174, -4.19889497756958, -1.0514291524887085, 1.4783989191055298, -2.4674124717712402, 1.096535325050354, 1.5369048118591309, -0.18077802658081055, -0.006693657487630844, -0.6249425411224365, 0.6946300864219666, 0.4528237283229828, -0.7999381422996521, 0.4034450948238373, -0.8412144780158997, 5.125082492828369, 0.2367803007364273, -0.21245799958705902, 0.39130228757858276, -1.1614042520523071, 3.4946460723876953, 1.4186018705368042, -2.396411657333374, 2.271272897720337, -1.1123493909835815, 3.261789321899414, 0.7385135889053345, 1.7732712030410767, -5.907869338989258, 0.5434554815292358, 4.378907680511475, -2.394547939300537, 0.10423664003610611, 0.5140653252601624, 4.906626224517822, 1.9262092113494873, 3.5436108112335205, 1.472906470298767, 1.819797396659851, 0.46234095096588135, 0.4507429301738739, 2.9005208015441895, -2.2159504890441895, 0.21044091880321503, 1.0231578350067139, -0.7814055681228638, 3.0906317234039307, 6.71965217590332, -0.4178948402404785, -1.125102162361145, -1.2268513441085815, 0.20998695492744446, -0.7928557395935059, -0.7885959148406982, 0.9255897402763367, -0.8320239782333374, 3.447705030441284, -4.427145957946777, -0.0724504366517067, 0.10422500967979431, -2.8876845836639404, -0.8870598077774048, 1.456821084022522, -1.8568087816238403, -1.4012454748153687, 0.31320518255233765, -0.8451666831970215, 1.571279764175415, -2.6016154289245605, -2.5953264236450195, 0.7525410652160645, -0.7545692324638367, -2.8542630672454834, -2.9309778213500977, 2.6518516540527344, 1.6060882806777954, 0.3455435037612915, 1.8133429288864136, 1.4722405672073364, 5.729600429534912, 2.0416488647460938, 0.5242088437080383, 0.29471737146377563, 0.03605591878294945, -9.699499130249023, -1.997097134590149, -2.130945920944214, 0.8277402520179749, 3.366264820098877, -3.282855987548828, -5.020595550537109, -3.611414909362793, 0.37799036502838135, -0.6029784083366394, -0.5910255312919617, -2.0168352127075195, -2.505582094192505, -0.47273728251457214, -0.3494403064250946, 0.4675273597240448, -4.018331050872803, 0.46809765696525574, -0.903594970703125, -5.564211368560791, -2.1583964824676514, -3.2857956886291504, -5.541214942932129, 3.317922353744507, -1.9024336338043213, 1.8874564170837402, -1.916502833366394, -5.187633514404297, 2.1925458908081055, 0.44977059960365295, 1.2383397817611694, -0.15083488821983337, -1.0854227542877197, -0.9924509525299072, 4.356606960296631, 4.519489288330078, 1.1400401592254639, 0.8190215826034546, 3.060380458831787, -2.1496334075927734, -4.9559006690979, -1.44985032081604, 4.358704566955566, 3.497920036315918, -0.2901085913181305, 1.8783767223358154, -0.2558864653110504, -1.0663074254989624, -3.2886085510253906, -2.6896378993988037, -1.2551532983779907, 0.6496604681015015, 0.761629045009613, 0.03037807159125805, 1.9280513525009155, -0.06722049415111542, -2.7332911491394043, 0.6907378435134888, 5.004556655883789, -0.7885103225708008, -0.09986560046672821, -0.44902729988098145, 1.794704794883728, 4.276525497436523, -0.3974764347076416, -1.3153306245803833, -5.529918193817139, -0.0705425813794136, 2.2717297077178955, 0.4770301580429077, 0.5463989973068237, 1.689902663230896, -3.158682346343994, -1.4607874155044556, -0.5592090487480164, -1.981279730796814, 0.5508196949958801, 1.9267797470092773, -2.026712656021118, 2.03779935836792, -0.04010063409805298, 0.673673152923584, 2.0235402584075928, -1.6894357204437256, 0.013575024902820587, 2.8165175914764404, -2.3820438385009766, -4.654911518096924, -1.6880218982696533, -1.5335044860839844, -2.7163093090057373, -3.049652099609375, -4.766021251678467, -0.24946165084838867, 3.3728065490722656, 2.633763074874878, -1.267677664756775, 0.9783310890197754, -0.4651792049407959, -1.824216604232788, -3.1549317836761475, -1.7352944612503052, -2.425611734390259, 2.8309669494628906, 1.720996618270874, -3.7122786045074463, 1.6833077669143677, 1.0591444969177246, -0.4647606611251831, 4.442316055297852, 0.912249743938446, -1.8028496503829956, 0.8749608993530273, 1.5533922910690308, -2.151571273803711, 2.8112566471099854, 2.248526096343994, 0.08582247048616409, 2.1805672645568848, -4.881414890289307, -1.5264216661453247, -4.072678089141846, -2.6935348510742188, 1.6346060037612915, 1.02360200881958, -5.572868824005127, 1.154822826385498, -2.6416573524475098, -2.9427013397216797, 2.447105646133423, -0.2593674063682556, 1.9303656816482544, -2.5137252807617188, -2.774411916732788, -2.064068555831909, -1.4012274742126465, -0.2146124243736267, -2.325319528579712, 0.3463151156902313, -0.8725519180297852, -4.448965549468994, -2.3371691703796387, -1.6299811601638794, 3.2583351135253906, 1.9345629215240479, 2.8281490802764893, 0.21452179551124573, -2.272989511489868, 1.6125175952911377, -0.4423975646495819, 0.33057987689971924, 2.489987373352051, -0.12788736820220947, 1.063539743423462, -3.8488285541534424, 15.079547882080078, -4.091789245605469, -0.14539264142513275, 0.025886965915560722, 0.69879549741745, -2.724684476852417, 2.0615930557250977, 1.2952046394348145, -2.1990792751312256, 1.7782108783721924, -0.05323928967118263, -9.787878036499023, 2.799023151397705, 0.4599372446537018, 0.8382838368415833, 3.7134666442871094, -0.7101386785507202, 0.5678719282150269, -0.6988895535469055, -0.016693953424692154, -4.17486572265625, -1.9983046054840088, -1.312971830368042, -2.3807923793792725, 0.45552974939346313, -3.3106906414031982, 1.088502049446106, 1.8129663467407227, -0.9587106704711914, -4.739902973175049, -2.0659565925598145, 0.5285001993179321, -4.4993696212768555, 8.675956726074219, -2.051232099533081, 2.51481032371521, 1.9333561658859253, 3.6109540462493896, 0.6253789663314819, 2.1546623706817627, -1.9124009609222412, 1.18867826461792, 1.6053614616394043, 2.1423380374908447, -1.6472233533859253, -0.055911723524332047, -1.758882761001587, 0.9551385641098022, -1.3468817472457886, 0.9012967944145203, -1.1393797397613525, 0.8792043924331665, 0.7650444507598877, 4.94921875, 0.6926310062408447, 0.7828484773635864, -2.0096945762634277, 1.183821201324463, -0.11918974667787552, 1.067816138267517, -4.4275641441345215, 2.997300863265991, -0.9819055199623108, -3.588811159133911, 2.249664783477783, -0.9684971570968628, -0.4088582694530487, 0.9041058421134949, -0.7676541209220886, -0.37478896975517273, 2.071256399154663, -0.5944453477859497, 0.37231093645095825, -1.894877552986145, 2.451066255569458, -1.5314650535583496, -3.0864107608795166, 0.3988470137119293, -1.0491359233856201, 1.7339427471160889, -1.236419916152954, 0.9569995403289795, 1.2626575231552124, 2.6222801208496094, -0.40429413318634033, 0.578019917011261, -1.3390785455703735, 0.48680752515792847, 1.7016801834106445, 1.2585344314575195, -0.08443218469619751, 1.2827739715576172, -2.6453182697296143, 0.19232021272182465, -1.8610005378723145, 2.2475080490112305, -1.9584038257598877, -0.81239253282547, -0.11669176071882248, -1.6217796802520752, -2.6592226028442383, -3.0233612060546875, -5.029011249542236, -0.637594997882843, -3.2204689979553223, 0.6653832793235779, -0.8405795097351074, -1.287983775138855, -0.6244660019874573, -1.2962186336517334, -1.1324201822280884, -3.6031200885772705, 0.2901776134967804, 1.3443634510040283, 0.37242764234542847, -0.46539416909217834, -2.9514174461364746, 2.416257619857788, 1.0231735706329346, 0.9349914789199829, 0.44968071579933167, -2.045884132385254, 4.800166130065918, -0.8061075210571289, 1.9864883422851562, -0.8361071944236755, 0.8543685078620911, -15.476457595825195, -1.229059100151062, 2.206888198852539, -1.5838041305541992, 0.5349451899528503, 0.2603577673435211, -5.6084723472595215, -0.4943755567073822, 0.24788068234920502, -0.6970941424369812, -0.672320544719696, -0.9491609334945679, 2.9582183361053467, 3.666137456893921, 1.6462739706039429, -0.3369416296482086, 0.5365100502967834, 0.8876468539237976, -1.0208485126495361, -4.3275837898254395, 0.8833647966384888, -1.5137721300125122, 3.9647512435913086, -3.0135908126831055, -2.1841537952423096, -11.79506778717041, -0.18177174031734467, -0.005859041120857, -2.756500244140625, -0.3930671513080597, 2.5471811294555664, 2.039494037628174, -0.6138372421264648, -0.5666298866271973, 1.493019700050354, -3.075183868408203, -0.8554826974868774, 1.7780708074569702, -2.950615167617798, -2.99467134475708, -0.22816094756126404]}\n"
     ]
    }
   ],
   "source": [
    "res = requests.post('http://localhost:11434/api/embeddings',\n",
    "                    json={\n",
    "                        'model': 'llama3',\n",
    "                        'prompt': 'Hello world' \n",
    "                    })\n",
    "\n",
    "print(res.json())"
   ]
  },
  {
   "cell_type": "code",
   "execution_count": 9,
   "metadata": {},
   "outputs": [],
   "source": [
    "dimension = len(res.json()['embedding']) # 4096"
   ]
  },
  {
   "cell_type": "code",
   "execution_count": 19,
   "metadata": {},
   "outputs": [],
   "source": [
    "from PyPDF2 import PdfReader # used to extract text from pdf\n",
    "from langchain.text_splitter import RecursiveCharacterTextSplitter # split text in smaller snippets\n",
    "from langchain_community.llms import Ollama\n",
    "from langchain_community.embeddings import OllamaEmbeddings\n",
    "import uuid\n"
   ]
  },
  {
   "cell_type": "code",
   "execution_count": 21,
   "metadata": {},
   "outputs": [
    {
     "name": "stdout",
     "output_type": "stream",
     "text": [
      "768\n"
     ]
    }
   ],
   "source": [
    "embeddings = (\n",
    "    OllamaEmbeddings(model=\"nomic-embed-text\")\n",
    ") \n",
    "\n",
    "embedding = embeddings.embed_query(\"Hello World\")\n",
    "dimension = len(embedding)\n",
    "print(len(embedding))"
   ]
  },
  {
   "cell_type": "code",
   "execution_count": 22,
   "metadata": {},
   "outputs": [],
   "source": [
    "chroma_client = chromadb.Client()\n",
    "collection2 = chroma_client.get_or_create_collection(name=\"test_chat_nomic1\")\n"
   ]
  },
  {
   "cell_type": "code",
   "execution_count": 12,
   "metadata": {},
   "outputs": [],
   "source": [
    "EXTRACTED_TEXT_FILE_PATH = \"pdf_txt.txt\" # text extracted from pdf\n",
    "PDF_FILE_PATH = \"shashwat_resume_070623.pdf\"\n",
    "CHUNK_SIZE = 100 # chunk size to create snippets\n",
    "CHUNK_OVERLAP = 10 # check size to create overlap between snippets\n",
    "CONFIDENCE_SCORE = 0.70 # specify confidence score to filter search results. [0,1] prefered: 0.75"
   ]
  },
  {
   "cell_type": "code",
   "execution_count": 23,
   "metadata": {},
   "outputs": [],
   "source": [
    "def extract_text_from_pdf(file_path: str):\n",
    "    # Open the PDF file using the specified file_path\n",
    "    reader = PdfReader(file_path)\n",
    "    # Get the total number of pages in the PDF\n",
    "    number_of_pages = len(reader.pages)\n",
    "\n",
    "    # Initialize an empty string to store extracted text\n",
    "    pdf_text = \"\"\n",
    "\n",
    "    # Loop through each page of the PDF\n",
    "    for i in range(number_of_pages):\n",
    "        # Get the i-th page\n",
    "        page = reader.pages[i]\n",
    "        # Extract text from the page and append it to pdf_text\n",
    "        pdf_text += page.extract_text()\n",
    "        # Add a newline after each page's text for readability\n",
    "        pdf_text += \"\\n\"\n",
    "    \n",
    "    # Specify the file path for the new text file\n",
    "    file_path = EXTRACTED_TEXT_FILE_PATH\n",
    "\n",
    "    # Write the content to the text file\n",
    "    with open(file_path, \"w\", encoding=\"utf-8\") as file:\n",
    "        file.write(pdf_text)\n"
   ]
  },
  {
   "cell_type": "code",
   "execution_count": 14,
   "metadata": {},
   "outputs": [],
   "source": [
    "def get_uuid():\n",
    "    return str(uuid.uuid4())"
   ]
  },
  {
   "cell_type": "code",
   "execution_count": 26,
   "metadata": {},
   "outputs": [],
   "source": [
    "def create_embeddings(file_path: str):\n",
    "      # Initialize a list to store text snippets\n",
    "    snippets = []\n",
    "    # Initialize a CharacterTextSplitter with specified settings\n",
    "    text_splitter = RecursiveCharacterTextSplitter(chunk_size=CHUNK_SIZE, chunk_overlap=CHUNK_OVERLAP)\n",
    "    \n",
    "    # Read the content of the file specified by file_path\n",
    "    with open(file_path, \"r\", encoding=\"utf-8\") as file:\n",
    "            file_text = file.read()\n",
    "\n",
    "    # Split the text into snippets using the specified settings\n",
    "    snippets = text_splitter.split_text(file_text)\n",
    "    print(len(snippets))\n",
    "\n",
    "    x = numpy.zeros((len(snippets), dimension), dtype= 'float32')\n",
    "    ids = []\n",
    "\n",
    "    for i, snippet in enumerate(snippets):\n",
    "       print(snippet)\n",
    "       embedding = embeddings.embed_query(snippet)\n",
    "#        res = requests.post('http://localhost:11434/api/embeddings',\n",
    "#                     json={\n",
    "#                         'model': 'llama3',\n",
    "#                         'prompt': snippet \n",
    "#                     }) \n",
    "#        embedding = res.json()['embedding']\n",
    "       ids.append(get_uuid())\n",
    "       x[i] = numpy.array(embedding)\n",
    "\n",
    "    collection2.add(embeddings = x,\n",
    "            documents=snippets,\n",
    "            ids=ids)"
   ]
  },
  {
   "cell_type": "code",
   "execution_count": 25,
   "metadata": {},
   "outputs": [
    {
     "name": "stdout",
     "output_type": "stream",
     "text": [
      "[]\n",
      "[]\n",
      "[]\n",
      "[]\n"
     ]
    }
   ],
   "source": [
    "data=collection2.get(include=['embeddings', 'documents', 'metadatas'])\n",
    "print(data['embeddings'])\n",
    "print(data['ids'])\n",
    "print(data['metadatas'])\n",
    "print(data['documents'])\n",
    "\n"
   ]
  },
  {
   "cell_type": "code",
   "execution_count": 27,
   "metadata": {},
   "outputs": [
    {
     "name": "stdout",
     "output_type": "stream",
     "text": [
      "33\n",
      "Shashwat Srivastava Medium: https://medium.com/@shashwat12june Linkedin:\n",
      "Linkedin: https://www.linkedin.com/in/shashwat-s-29583294/ Email: Shashwat12june@gmail.com Phone:\n",
      "Phone: 9540086409Skills • Programming Languages: Ruby, C, Java, GO                       •\n",
      "• Frameworks: Ruby on Rails • Database: MySQL, PSQL, Redis , Mongo\n",
      "• Cloud Services : AWS, Firebase • Version Control Tools: Git\n",
      "• Unit testing: Rspec • Tools: RubyMine, Android studio,\n",
      "studio, Adobe Photoshop, Xcode, Jmeter, Postman, Jenkins • Interest: Data Structures, Algorithm\n",
      "Algorithm Experience Tech Lead at JISR (Feb 2023 -present) •Collaborating with the marketplace team\n",
      "team to enhance flexibility within the JISR ecosystem. Facilitating seamless integration through\n",
      "through open APIs and webhooks for simplified connectivity. •Collaborating with the platform and\n",
      "and DevOps teams to optimize infrastructure and establish enhanced logging and monitoring\n",
      "capabilities.  Software Developer Engineer 2 at ZOMATO (March 2021 - Jan 2023) •Developed and\n",
      "and implemented an efficient Chat Support and Ticketing platform with multi-tenant functionality,\n",
      "requiring minimal coding. Replaced Salesforce, Zendesk, and Freshdesk with a comprehensive\n",
      "solution. •Managed a high volume of daily sessions, totaling 0.5 million, with over 10,000\n",
      "10,000 concurrent sessions handled si-multaneously across Zomato and Blinkit platforms. •Actively\n",
      "•Actively worked on db optimisations, cost optimisations and load testing. Software Engineer at 1MG\n",
      "at 1MG (August 2018 - Feb 2021) •My role is to provide smooth consultation experience to user from\n",
      "user from chat init to chat complete via  assigning doctor, generating a E- Prescription and\n",
      "and helping them to order medicines. •I have worked on Clinic Management System from scratch.\n",
      "scratch. •Solved customer support agents Call Time Optimisation problem by creating a 1mg\n",
      "a 1mg integrated dashboard which helps CS agent to view, modify and place order via single\n",
      "single dashboard.  •Solved users query regarding their order delivery by creating an Order Status\n",
      "Status Widget. •I am also involved in writing unit test cases, load testing and optimising database\n",
      "database queries. Android Developer Intern at Payioo (August 2016-March 2017) •I was involved in\n",
      "in designing UI and writing code for payment solution. PERSONAL PROJECTS •Developed an android app\n",
      "app \"Sangeet- powerful music player\", Available on play store with 40000+ downloads.\n",
      "https://play.google.com/store/apps/details?id=com.ssappclinic.sangeet •Developed an android app\n",
      "app \"Chidiya Udd\",  Available on play\n",
      "on play store.!https://play.google.com/store/apps/details?id=com.SSAppClinic.shashwat_pc.chidiyaudd\n",
      "Education •B.Tech from Noida Institute of Engineering and Technology 2018, 75% (AKTU) •Class 12\n",
      "•Class 12 from St. Peter Inter College 2014, 83.5% (ICSE) •Class 10 from St. Peter Inter College\n",
      "College 2012, 90% (ISC)\n"
     ]
    }
   ],
   "source": [
    "extract_text_from_pdf(PDF_FILE_PATH)\n",
    "create_embeddings(EXTRACTED_TEXT_FILE_PATH)"
   ]
  },
  {
   "cell_type": "code",
   "execution_count": 128,
   "metadata": {},
   "outputs": [],
   "source": [
    "def frame_response(results, ques):\n",
    "   joined_string = \"\\n\".join(results)\n",
    "   prompt = joined_string + \"\\n Given this information, \" + ques\n",
    "   llm = Ollama(\n",
    "      model=\"llama3\"\n",
    "   )\n",
    "   return llm.invoke(prompt)"
   ]
  },
  {
   "cell_type": "code",
   "execution_count": 206,
   "metadata": {},
   "outputs": [],
   "source": [
    "def answer_users_question(user_question):\n",
    "    #query_text = \"I work with jisr?\"\n",
    "    # res = requests.post('http://localhost:11434/api/embeddings',\n",
    "    #                     json={\n",
    "    #                         'model': 'llama3',\n",
    "    #                         'prompt': user_question\n",
    "    #                     })\n",
    "\n",
    "    # embedding_arr = numpy.array([res.json()['embedding']], dtype='float32')\n",
    "    embedding_arr = embeddings.embed_query(user_question)\n",
    "    result = collection2.query(\n",
    "        query_embeddings= embedding_arr,\n",
    "        n_results=5\n",
    "    )\n",
    "\n",
    "    return frame_response(result['documents'][0], user_question)"
   ]
  },
  {
   "cell_type": "code",
   "execution_count": 205,
   "metadata": {},
   "outputs": [
    {
     "name": "stdout",
     "output_type": "stream",
     "text": [
      "👤USER:\n",
      "What is the work experience of shashwat?\n",
      "----------------------\n",
      "🤖 BOT:\n",
      "Based on the provided information, Shashwat's work experience is:\n",
      "\n",
      "1. Software Engineer at 1MG (no specific dates mentioned)\n",
      "\t* Worked on db optimisations, cost optimisations, and load testing.\n",
      "2. Android Developer Intern at Payioo (August 2016 - March 2017)\n",
      "3. Tech Lead at JISR (Feb 2023 - present)\n",
      "\t* Collaborating with the marketplace team to enhance flexibility within the JISR ecosystem\n",
      "\t* Facilitating seamless integration through algorithm development and database queries.\n",
      "\n",
      "Note that there may be gaps in his work experience between these listed roles, but this information provides a summary of his known work experience.\n",
      "----------------------\n",
      "👤USER:\n",
      "is there any mention of zomato?\n",
      "----------------------\n",
      "🤖 BOT:\n",
      "Yes, according to the provided information, Shashwat Srivastava mentions that he was a Software Developer Engineer 2 at ZOMATO from March 2021 to January 2023.\n",
      "----------------------\n",
      "👤USER:\n",
      "exit\n",
      "----------------------\n"
     ]
    }
   ],
   "source": [
    "# Start an infinite loop, allowing the user to ask questions\n",
    "while True:\n",
    "    \n",
    "    # Prompt the user to input a question\n",
    "    print(\"👤USER:\")\n",
    "    \n",
    "    # Read the user's question from the console\n",
    "    user_question = input(\"Enter question: \")\n",
    "    print(user_question)\n",
    "    \n",
    "    # Print a separator for readability\n",
    "    print(\"----------------------\")\n",
    "    \n",
    "    # Check if the user entered an empty question\n",
    "    if user_question ==\"exit\":\n",
    "        \n",
    "        # If the user entered an empty question, exit the loop\n",
    "        break\n",
    "    else:\n",
    "        \n",
    "        # If the user entered a question, proceed to generate a response\n",
    "        print(\"🤖 BOT:\")\n",
    "        \n",
    "        # Call the function to generate an answer based on the user's question\n",
    "        # and print the bot's response\n",
    "        print(answer_users_question(user_question=user_question))\n",
    "        \n",
    "        # Print a separator for readability\n",
    "        print(\"----------------------\")"
   ]
  }
 ],
 "metadata": {
  "kernelspec": {
   "display_name": "Python 3",
   "language": "python",
   "name": "python3"
  },
  "language_info": {
   "codemirror_mode": {
    "name": "ipython",
    "version": 3
   },
   "file_extension": ".py",
   "mimetype": "text/x-python",
   "name": "python",
   "nbconvert_exporter": "python",
   "pygments_lexer": "ipython3",
   "version": "3.9.6"
  }
 },
 "nbformat": 4,
 "nbformat_minor": 2
}
